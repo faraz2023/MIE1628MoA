{
 "cells": [
  {
   "cell_type": "markdown",
   "metadata": {},
   "source": [
    "# Mechanisms of Action Project Submission"
   ]
  },
  {
   "cell_type": "markdown",
   "metadata": {},
   "source": [
    "Team Members: Abhi Gandhi, Jeff Won, Shashank Saurav, Shengebo Zhang, Faraz Khoshbakhtian"
   ]
  },
  {
   "cell_type": "markdown",
   "metadata": {},
   "source": [
    "This document outlines the steps taken by our group to approach the Mechanisms of Action competition. This document presents are original approach whereas another document presents the challanger approach. "
   ]
  },
  {
   "cell_type": "markdown",
   "metadata": {},
   "source": [
    "## Importing the needed libraries"
   ]
  },
  {
   "cell_type": "code",
   "execution_count": 1,
   "metadata": {},
   "outputs": [],
   "source": [
    "import pandas as pd\n",
    "import seaborn as sns\n",
    "import numpy as np\n",
    "import matplotlib.pyplot as plt\n",
    "from functools import reduce\n",
    "from operator import add\n",
    "\n",
    "### This part is to run pyspark locally\n",
    "import findspark  # Get rid of this in DataBricks\n",
    "# findspark.init('/opt/spark-3.0.1')  # Get rid of this in DataBricks #faraz: you can remove the parameter. it only worked like this for me\n",
    "findspark.init()\n",
    "########################################\n",
    "\n",
    "import pyspark\n",
    "from pyspark.sql import Row\n",
    "from pyspark import SparkConf, SparkContext, SQLContext\n",
    "from pyspark.sql import SparkSession\n",
    "from pyspark.sql.types import StringType\n",
    "from pyspark.sql.types import FloatType\n",
    "from pyspark.sql.types import DoubleType\n",
    "from pyspark.sql.types import IntegerType\n",
    "from pyspark.sql.functions import udf\n",
    "from pyspark.sql import functions as F \n",
    "from pyspark.sql.functions import explode, col, udf, mean as _mean, stddev as _stddev, log, log10, sqrt\n",
    "from pyspark.sql.types import StructType\n",
    "from pyspark.sql.types import StructField\n",
    "from pyspark.sql.functions import lit\n",
    "from pyspark.ml.feature import StringIndexer\n",
    "from pyspark.ml.feature import VectorAssembler\n",
    "from pyspark.ml.stat import Correlation\n",
    "from pyspark.ml.tuning import CrossValidator, ParamGridBuilder\n",
    "from pyspark.ml.classification import LogisticRegression, NaiveBayes\n",
    "from pyspark.ml.classification import RandomForestClassifier\n",
    "from pyspark.ml.evaluation import BinaryClassificationEvaluator, MulticlassClassificationEvaluator\n",
    "from pyspark.ml.feature import VectorSlicer\n",
    "from pyspark.ml.feature import OneHotEncoder\n",
    "from pyspark.ml.feature import StringIndexer\n",
    "from pyspark.ml.functions import vector_to_array\n",
    "\n",
    "\n",
    "from tqdm import tqdm\n",
    "\n",
    "from pyspark.ml.regression import DecisionTreeRegressor\n",
    "from scv import StratifiedCrossValidator\n",
    "\n",
    "from pyspark.ml.classification import DecisionTreeClassifier\n",
    "import os"
   ]
  },
  {
   "cell_type": "code",
   "execution_count": 2,
   "metadata": {},
   "outputs": [],
   "source": [
    "sc = pyspark.SparkContext(appName=\"Pi\")\n",
    "spark = SparkSession(sc)\n"
   ]
  },
  {
   "cell_type": "markdown",
   "metadata": {},
   "source": [
    "## Seeting up spark, contexts and configurations"
   ]
  },
  {
   "cell_type": "code",
   "execution_count": null,
   "metadata": {},
   "outputs": [],
   "source": []
  },
  {
   "cell_type": "code",
   "execution_count": null,
   "metadata": {},
   "outputs": [],
   "source": []
  },
  {
   "cell_type": "code",
   "execution_count": 2,
   "metadata": {},
   "outputs": [
    {
     "name": "stdout",
     "output_type": "stream",
     "text": [
      "[('spark.dynamicAllocation.minExecutors', '1'), ('spark.executor.memory', '10g'), ('spark.executor.id', 'driver'), ('spark.app.id', 'local-1607403663689'), ('spark.rdd.compress', 'True'), ('spark.driver.memory', '8g'), ('spark.driver.port', '45911'), ('spark.cores.max', '8'), ('spark.serializer.objectStreamReset', '100'), ('spark.master', 'local[*]'), ('spark.submit.pyFiles', ''), ('spark.submit.deployMode', 'client'), ('spark.dynamicAllocation.maxExecutors', '8'), ('spark.driver.host', '172.17.170.152'), ('spark.dynamicAllocation.initialExecutors', '1'), ('spark.executor.cores', '8'), ('spark.app.name', 'proj'), ('spark.ui.showConsoleProgress', 'true')]\n"
     ]
    }
   ],
   "source": [
    "config = SparkConf().setAll([('spark.executor.memory', '10g'), ('spark.executor.cores', '8'), ('spark.cores.max', '8'), ('spark.driver.memory','8g')])\n",
    "config.setAppName(\"proj\")\n",
    "config.set(\"spark.dynamicAllocation.minExecutors\", \"1\");\n",
    "config.set(\"spark.dynamicAllocation.maxExecutors\", \"8\");\n",
    "config.set(\"spark.dynamicAllocation.initialExecutors\", \"1\"); # the number must be between the min and max\n",
    "sc = SparkContext(conf=config)  # start a new sc with the current config\n",
    "spark = SparkSession(sc)\n",
    "sqlc=SQLContext(sc)\n",
    "print(sc.getConf().getAll())  # print all the configuration"
   ]
  },
  {
   "cell_type": "markdown",
   "metadata": {},
   "source": [
    "## Reading and Preprocessing the Train Data"
   ]
  },
  {
   "cell_type": "code",
   "execution_count": null,
   "metadata": {},
   "outputs": [],
   "source": []
  },
  {
   "cell_type": "markdown",
   "metadata": {},
   "source": [
    "### Reading and Joining dataframes"
   ]
  },
  {
   "cell_type": "markdown",
   "metadata": {},
   "source": [
    "First, we need to read the features and labels for the training data, get rid of controll cases and join all the training data into a singular Spark dataframe."
   ]
  },
  {
   "cell_type": "code",
   "execution_count": 3,
   "metadata": {},
   "outputs": [],
   "source": [
    "# This is for being able to store the data in github and concatenation on local computer\n",
    "!cat train_features_*.csv > train_feats.csv"
   ]
  },
  {
   "cell_type": "code",
   "execution_count": 3,
   "metadata": {},
   "outputs": [],
   "source": [
    "# Train Features Dataset\n",
    "df_train = spark.read.csv('train_feats.csv', header='true', inferSchema= 'true')   # path in HDFS file system"
   ]
  },
  {
   "cell_type": "code",
   "execution_count": 4,
   "metadata": {},
   "outputs": [],
   "source": [
    "# Labels Dataset\n",
    "df_label = spark.read.csv('train_targets_scored.csv', header='true', inferSchema= 'true')"
   ]
  },
  {
   "cell_type": "code",
   "execution_count": 5,
   "metadata": {},
   "outputs": [],
   "source": [
    "# join all data together\n",
    "df = df_train.join(df_label, on=['sig_id'], how='left_outer')  "
   ]
  },
  {
   "cell_type": "code",
   "execution_count": 6,
   "metadata": {},
   "outputs": [],
   "source": [
    "# Dropping all the control cases since the test data also comes with control/case flag\n",
    "df = df.filter(df.cp_type == 'trt_cp')\n",
    "df = df.drop('cp_type')"
   ]
  },
  {
   "cell_type": "markdown",
   "metadata": {},
   "source": [
    "### One-Hot Encoding for Categorical features"
   ]
  },
  {
   "cell_type": "markdown",
   "metadata": {},
   "source": [
    "Second, we need to **One-Hot Encode** our categorical features. "
   ]
  },
  {
   "cell_type": "code",
   "execution_count": 7,
   "metadata": {},
   "outputs": [],
   "source": [
    "# String indexer for cp_dose\n",
    "indexer = StringIndexer(inputCol=\"cp_dose\", outputCol=\"cp_dose_cat\")\n",
    "# index cp_dose in data\n",
    "df1 = indexer.fit(df).transform(df)\n",
    "\n",
    "# String indexer for cp_time\n",
    "indexer = StringIndexer(inputCol=\"cp_time\", outputCol=\"cp_time_cat\")\n",
    "# index cp_time in data\n",
    "df1 = indexer.fit(df1).transform(df1)\n",
    "df1 = df1.drop('cp_dose')\n",
    "df1 = df1.drop('cp_time')\n",
    "\n",
    "# One-hot enocder \n",
    "encoder = OneHotEncoder(inputCols=[\"cp_time_cat\", \"cp_dose_cat\"],\n",
    "                        outputCols=[\"cp_time_onehot\", \"cp_dose_onehot\"])\n",
    "\n",
    "model = encoder.fit(df1)\n",
    "df1 = model.transform(df1)\n",
    "\n",
    "# Keeping n-1 dummy variables for each feature. (dummy variables have degree of fredom n-1)\n",
    "df1 = df1.withColumn(\"cp_time_cols\", vector_to_array(\"cp_time_onehot\")).select(df1.columns + [col(\"cp_time_cols\")[i] for i in range(2)])\n",
    "df1 = df1.withColumn(\"cp_dose_cols\", vector_to_array(\"cp_dose_onehot\")).select(df1.columns + [col(\"cp_dose_cols\")[i] for i in range(1)])\n",
    "\n",
    "# drop leftover cols\n",
    "df1 = df1.drop('cp_dose_cat',\n",
    " 'cp_time_cat',\n",
    " 'cp_time_onehot',\n",
    " 'cp_dose_onehot',\n",
    ")\n"
   ]
  },
  {
   "cell_type": "markdown",
   "metadata": {},
   "source": [
    "### Feature Engineering  "
   ]
  },
  {
   "cell_type": "markdown",
   "metadata": {},
   "source": [
    "Third, we create some features that describes the statistics of each row. We look at the row-wise min, max, mean, standard deviation for gene and cell information. We also use KMeans clustering to classify the data into 3 cluster classes based on Euclidean distance and use the cluster results as an additional engineered feature."
   ]
  },
  {
   "cell_type": "code",
   "execution_count": 8,
   "metadata": {},
   "outputs": [
    {
     "data": {
      "text/plain": [
       "'\\nKMeans clustering - engineer new feature based on cluster results\\nUse K=3 to fit the assembled features\\n\\nfrom pyspark.ml.clustering import KMeans\\n\\nfeature_label_assembler = VectorAssembler(inputCols=df1.columns[1:], outputCol=\"assemebled\")\\ncluster_df = feature_label_assembler.transform(df1)\\n\\nkmeans = KMeans(k=3, featuresCol=\\'assemebled\\', \\n                predictionCol=\\'clusterClassPrediction\\', distanceMeasure=\\'euclidean\\',)\\n\\nmodel = kmeans.fit(cluster_df)\\ntransformed = model.transform(cluster_df).select(\"sig_id\", \"clusterClassPrediction\")\\n\\ndf2 = df2.join(transformed, on=[\\'sig_id\\'], how=\\'inner\\')\\ndf2.select(\"clusterClassPrediction\").show()\\n'"
      ]
     },
     "execution_count": 8,
     "metadata": {},
     "output_type": "execute_result"
    }
   ],
   "source": [
    "gene_feature_names = [name for name in df1.columns if 'g-' in name]\n",
    "cell_feature_names =  [name for name in df1.columns if 'c-' in name]\n",
    "\n",
    "df2 = df1.withColumn(\"gene_max\", F.greatest(*gene_feature_names))\n",
    "df2 = df2.withColumn(\"gene_min\", F.least(*gene_feature_names))\n",
    "df2 = df2.withColumn(\"cell_max\", F.greatest(*cell_feature_names))\n",
    "df2 = df2.withColumn(\"cell_min\", F.least(*cell_feature_names))\n",
    "\n",
    "\n",
    "df2 = df2.withColumn(\"gene_mean\", reduce(lambda x,y: x+y, (col(x) for x in gene_feature_names)) / len(gene_feature_names))\n",
    "df2 = df2.withColumn(\"cell_mean\", reduce(lambda x,y: x+y, (col(x) for x in cell_feature_names)) / len(cell_feature_names))\n",
    "\n",
    "'''\n",
    "gene_std = sqrt(\n",
    "    reduce(add, ((col(x) - col(\"gene_mean\")) ** 2 for x in gene_feature_names)) / (len(gene_feature_names) - 1)\n",
    ")\n",
    "\n",
    "cell_std = sqrt(\n",
    "    reduce(add, ((col(x) - col(\"cell_mean\")) ** 2 for x in cell_feature_names)) / (len(cell_feature_names) - 1)\n",
    ")\n",
    "\n",
    "\n",
    "df2 = df2.withColumn(\"gene_std\", gene_std)\n",
    "df2 = df2.withColumn(\"cell_std\", cell_std)\n",
    "# df2 = df2.withColumn(\"gene_std\", sqrt(reduce(lambda x,y: x-col('gene_mean') + y-col('gene_mean'), (col(x) for x in gene_feature_names))**2 / len(gene_feature_names)))\n",
    "# df2 = df2.withColumn(\"cell_std\", sqrt(reduce(lambda x,y: x-col('cell_mean') + y-col('cell_mean'), (col(x) for x in cell_feature_names))**2 / len(cell_feature_names)))\n",
    "\n",
    "\n",
    "df2 = df2.withColumn(\"gene_sum\", reduce(lambda x,y: x+y, (col(x) for x in gene_feature_names)))\n",
    "df2 = df2.withColumn(\"cell_sum\", reduce(lambda x,y: x+y, (col(x) for x in cell_feature_names)))\n",
    "\n",
    "\n",
    "'''\n",
    "\n",
    "'''\n",
    "KMeans clustering - engineer new feature based on cluster results\n",
    "Use K=3 to fit the assembled features\n",
    "\n",
    "from pyspark.ml.clustering import KMeans\n",
    "\n",
    "feature_label_assembler = VectorAssembler(inputCols=df1.columns[1:], outputCol=\"assemebled\")\n",
    "cluster_df = feature_label_assembler.transform(df1)\n",
    "\n",
    "kmeans = KMeans(k=3, featuresCol='assemebled', \n",
    "                predictionCol='clusterClassPrediction', distanceMeasure='euclidean',)\n",
    "\n",
    "model = kmeans.fit(cluster_df)\n",
    "transformed = model.transform(cluster_df).select(\"sig_id\", \"clusterClassPrediction\")\n",
    "\n",
    "df2 = df2.join(transformed, on=['sig_id'], how='inner')\n",
    "df2.select(\"clusterClassPrediction\").show()\n",
    "'''"
   ]
  },
  {
   "cell_type": "markdown",
   "metadata": {},
   "source": [
    "### General Purpose Feature Selection Based on Correlation"
   ]
  },
  {
   "cell_type": "markdown",
   "metadata": {},
   "source": [
    "In our initial step for feature selection we use correlation meassure to reduce the number of features."
   ]
  },
  {
   "cell_type": "code",
   "execution_count": 9,
   "metadata": {},
   "outputs": [],
   "source": [
    "# Keeping track of the feature names\n",
    "feature_columns = gene_feature_names + cell_feature_names \n",
    "\n",
    "# Creating the feature vector\n",
    "vectorAssembler = VectorAssembler(inputCols = feature_columns, outputCol = 'feats' )\n",
    "feature_vector = vectorAssembler.transform(df2).select(\"feats\")\n",
    "\n",
    "# Computing the correlations with pySpark\n",
    "corr_matrix = Correlation.corr(feature_vector, \"feats\").head()[0]\n",
    "\n",
    "# Convert the correlation desne matrix and apply mask and to get the indicies where high correlations are observed\n",
    "# In here, I convert the correlation matrix to numpy, and then use numpy's mask to obtain the lower traingle of the\n",
    "# matrix. I used numpy becasue pyspark does not have mask.\n",
    "\n",
    "# Detection highly correlated features\n",
    "corr_Array = corr_matrix.toArray()\n",
    "masked_corr = np.ma.masked_where(np.triu(np.ones_like(corr_Array, dtype=bool)), corr_Array, copy=True)  \n",
    "idx_high_corr_feats = set(np.argwhere(abs(masked_corr) > 0.60)[:,0])  # Set threshold to 90%\n",
    "# Identify the column to drop \n",
    "features_to_drop = np.array(feature_columns)[list(idx_high_corr_feats)].tolist()\n",
    "\n",
    "\n",
    "# Drop the correalted features\n",
    "df3 = df2.drop(*features_to_drop)"
   ]
  },
  {
   "cell_type": "markdown",
   "metadata": {},
   "source": [
    "## Machine Learning Pipeline "
   ]
  },
  {
   "cell_type": "markdown",
   "metadata": {},
   "source": [
    "The task for Mechanisms of Action is formally considred a Multi-label classification problem. We are employing the Binary-Relevance approach for the problem at hand. For each of the possible binary labels we first use a **Random Forrest CLassifier** to achive another level of feature selection based on the feature importance meassure. Subsequently, we train one **logistic regression** model and a **naive bayes** model for each label.\n",
    "\n",
    "We have use upsampling the minority class and downsampling the majority class to overcome issues of imbalanced data. "
   ]
  },
  {
   "cell_type": "code",
   "execution_count": 10,
   "metadata": {},
   "outputs": [],
   "source": [
    "# Getting the final feature set\n",
    "final_feature_names = list(set(df3.columns) - set(df_label.columns))\n",
    "\n",
    "# Create Feature vector\n",
    "vectorAssembler = VectorAssembler(inputCols = final_feature_names, outputCol = 'feats' )\n",
    "\n",
    "# drop all unnecessary features\n",
    "df4 = vectorAssembler.transform(df3).drop(*final_feature_names)"
   ]
  },
  {
   "cell_type": "code",
   "execution_count": 11,
   "metadata": {},
   "outputs": [
    {
     "name": "stdout",
     "output_type": "stream",
     "text": [
      "+------------+---------------------------+----------------------+--------------+------------------------------+---------------------------------+------------------------------+--------------------------+-----------------------------+--------------------------+---------------------------+------------------------------+-------------+--------------------------------+-------------+--------------+---------+-------------------------+----------------------------+------------------+----------------------+-------------------------------+-----------------+--------------+----------+--------------+----------+-------------+------------+-----------+-------------+---------+-------------------+-------------------+--------------------+------------------------------------------+----------------------+----------------+--------------------+-----------------------+-------------------+-----------------------------------------+-----------------------------------------+--------------------+---------------------------------------+------------------------------+-----------------------+--------------------------------------+-------------+-----------------+-------------------------------+----------------------+---------------------+-------------+---------------------+-----------------------+----------------------------+-------------------------------+----------------------------+-----------------------+-----------------+--------------------------------------+--------------------------------+-----------------------+-------------+---------------+-------------+------------------------+---------------------+-------------------------------+----------------------------+----------------------+------------------------+-------------------------+---------------------------------+------------------------------+--------+--------------------+-------------+-------------------------+----------------------------+--------------+------------------+---------------+-------------------------+----------------------------+--------------+-----------------------------+---------------------------+--------------+--------------+-------------------------------+----------------------+-----------------------------------+---------------------+------------------------+-------------------------+-------------------------------+-------------------+--------------------------+-----------------------------+-----------------------------+-------------+-------------+--------------+--------------------------+-----------------------------+------------------------------------+------------------------------------------+-------------+---------------+-------------+---------------+-------------+----------------------------+-----------------+--------------------+------------------+------------------+-------------+-------------+--------+---------------------+-------------------------------+----------------+----------------------+-----------+-------------+-------------+----------------------------+-------------------------------------+---------------------------------+---------------------------+------------------------------------+--------------+---------------+--------------------------------+--------------+--------------------------+------------------+---------------------------------+-------------------------------+---------------------------------+--------------+-----------------------+--------------------------+--------------------------+------------------+------------------------+--------------+---------------+-------------+---------------------------+-----------------------+--------------+-------------+---------------------------+----------------------------+---------------------+------------------------+-----------------------------+--------------------------------+-----------------------+------------------------------+--------------------+------------------------+-----------------------------+---------------------------+---------------------------------+-----------------+-------------+--------------------+-------------------------+----------------------------+-------------------------------+----------------------------------+------------------------+--------------------------+-----------------------------+----------------------------+----------------------+-------------------------+------------------------------+------------------------+----------------------------+-------------+-------+-------------+---------------------+---------------------------+------------------+------------------------------+-----------+--------------+-------------+-----------------------+-----------------------------------------------+-------------------------------------+------------+---------------+-----------------+-------------------------+-------------------------------------+---------------+---------+--------------------------+-------------+--------------------+\n",
      "|      sig_id|5-alpha_reductase_inhibitor|11-beta-hsd1_inhibitor|acat_inhibitor|acetylcholine_receptor_agonist|acetylcholine_receptor_antagonist|acetylcholinesterase_inhibitor|adenosine_receptor_agonist|adenosine_receptor_antagonist|adenylyl_cyclase_activator|adrenergic_receptor_agonist|adrenergic_receptor_antagonist|akt_inhibitor|aldehyde_dehydrogenase_inhibitor|alk_inhibitor|ampk_activator|analgesic|androgen_receptor_agonist|androgen_receptor_antagonist|anesthetic_-_local|angiogenesis_inhibitor|angiotensin_receptor_antagonist|anti-inflammatory|antiarrhythmic|antibiotic|anticonvulsant|antifungal|antihistamine|antimalarial|antioxidant|antiprotozoal|antiviral|apoptosis_stimulant|aromatase_inhibitor|atm_kinase_inhibitor|atp-sensitive_potassium_channel_antagonist|atp_synthase_inhibitor|atpase_inhibitor|atr_kinase_inhibitor|aurora_kinase_inhibitor|autotaxin_inhibitor|bacterial_30s_ribosomal_subunit_inhibitor|bacterial_50s_ribosomal_subunit_inhibitor|bacterial_antifolate|bacterial_cell_wall_synthesis_inhibitor|bacterial_dna_gyrase_inhibitor|bacterial_dna_inhibitor|bacterial_membrane_integrity_inhibitor|bcl_inhibitor|bcr-abl_inhibitor|benzodiazepine_receptor_agonist|beta_amyloid_inhibitor|bromodomain_inhibitor|btk_inhibitor|calcineurin_inhibitor|calcium_channel_blocker|cannabinoid_receptor_agonist|cannabinoid_receptor_antagonist|carbonic_anhydrase_inhibitor|casein_kinase_inhibitor|caspase_activator|catechol_o_methyltransferase_inhibitor|cc_chemokine_receptor_antagonist|cck_receptor_antagonist|cdk_inhibitor|chelating_agent|chk_inhibitor|chloride_channel_blocker|cholesterol_inhibitor|cholinergic_receptor_antagonist|coagulation_factor_inhibitor|corticosteroid_agonist|cyclooxygenase_inhibitor|cytochrome_p450_inhibitor|dihydrofolate_reductase_inhibitor|dipeptidyl_peptidase_inhibitor|diuretic|dna_alkylating_agent|dna_inhibitor|dopamine_receptor_agonist|dopamine_receptor_antagonist|egfr_inhibitor|elastase_inhibitor|erbb2_inhibitor|estrogen_receptor_agonist|estrogen_receptor_antagonist|faah_inhibitor|farnesyltransferase_inhibitor|fatty_acid_receptor_agonist|fgfr_inhibitor|flt3_inhibitor|focal_adhesion_kinase_inhibitor|free_radical_scavenger|fungal_squalene_epoxidase_inhibitor|gaba_receptor_agonist|gaba_receptor_antagonist|gamma_secretase_inhibitor|glucocorticoid_receptor_agonist|glutamate_inhibitor|glutamate_receptor_agonist|glutamate_receptor_antagonist|gonadotropin_receptor_agonist|gsk_inhibitor|hcv_inhibitor|hdac_inhibitor|histamine_receptor_agonist|histamine_receptor_antagonist|histone_lysine_demethylase_inhibitor|histone_lysine_methyltransferase_inhibitor|hiv_inhibitor|hmgcr_inhibitor|hsp_inhibitor|igf-1_inhibitor|ikk_inhibitor|imidazoline_receptor_agonist|immunosuppressant|insulin_secretagogue|insulin_sensitizer|integrin_inhibitor|jak_inhibitor|kit_inhibitor|laxative|leukotriene_inhibitor|leukotriene_receptor_antagonist|lipase_inhibitor|lipoxygenase_inhibitor|lxr_agonist|mdm_inhibitor|mek_inhibitor|membrane_integrity_inhibitor|mineralocorticoid_receptor_antagonist|monoacylglycerol_lipase_inhibitor|monoamine_oxidase_inhibitor|monopolar_spindle_1_kinase_inhibitor|mtor_inhibitor|mucolytic_agent|neuropeptide_receptor_antagonist|nfkb_inhibitor|nicotinic_receptor_agonist|nitric_oxide_donor|nitric_oxide_production_inhibitor|nitric_oxide_synthase_inhibitor|norepinephrine_reuptake_inhibitor|nrf2_activator|opioid_receptor_agonist|opioid_receptor_antagonist|orexin_receptor_antagonist|p38_mapk_inhibitor|p-glycoprotein_inhibitor|parp_inhibitor|pdgfr_inhibitor|pdk_inhibitor|phosphodiesterase_inhibitor|phospholipase_inhibitor|pi3k_inhibitor|pkc_inhibitor|potassium_channel_activator|potassium_channel_antagonist|ppar_receptor_agonist|ppar_receptor_antagonist|progesterone_receptor_agonist|progesterone_receptor_antagonist|prostaglandin_inhibitor|prostanoid_receptor_antagonist|proteasome_inhibitor|protein_kinase_inhibitor|protein_phosphatase_inhibitor|protein_synthesis_inhibitor|protein_tyrosine_kinase_inhibitor|radiopaque_medium|raf_inhibitor|ras_gtpase_inhibitor|retinoid_receptor_agonist|retinoid_receptor_antagonist|rho_associated_kinase_inhibitor|ribonucleoside_reductase_inhibitor|rna_polymerase_inhibitor|serotonin_receptor_agonist|serotonin_receptor_antagonist|serotonin_reuptake_inhibitor|sigma_receptor_agonist|sigma_receptor_antagonist|smoothened_receptor_antagonist|sodium_channel_inhibitor|sphingosine_receptor_agonist|src_inhibitor|steroid|syk_inhibitor|tachykinin_antagonist|tgf-beta_receptor_inhibitor|thrombin_inhibitor|thymidylate_synthase_inhibitor|tlr_agonist|tlr_antagonist|tnf_inhibitor|topoisomerase_inhibitor|transient_receptor_potential_channel_antagonist|tropomyosin_receptor_kinase_inhibitor|trpv_agonist|trpv_antagonist|tubulin_inhibitor|tyrosine_kinase_inhibitor|ubiquitin_specific_protease_inhibitor|vegfr_inhibitor|vitamin_b|vitamin_d_receptor_agonist|wnt_inhibitor|               feats|\n",
      "+------------+---------------------------+----------------------+--------------+------------------------------+---------------------------------+------------------------------+--------------------------+-----------------------------+--------------------------+---------------------------+------------------------------+-------------+--------------------------------+-------------+--------------+---------+-------------------------+----------------------------+------------------+----------------------+-------------------------------+-----------------+--------------+----------+--------------+----------+-------------+------------+-----------+-------------+---------+-------------------+-------------------+--------------------+------------------------------------------+----------------------+----------------+--------------------+-----------------------+-------------------+-----------------------------------------+-----------------------------------------+--------------------+---------------------------------------+------------------------------+-----------------------+--------------------------------------+-------------+-----------------+-------------------------------+----------------------+---------------------+-------------+---------------------+-----------------------+----------------------------+-------------------------------+----------------------------+-----------------------+-----------------+--------------------------------------+--------------------------------+-----------------------+-------------+---------------+-------------+------------------------+---------------------+-------------------------------+----------------------------+----------------------+------------------------+-------------------------+---------------------------------+------------------------------+--------+--------------------+-------------+-------------------------+----------------------------+--------------+------------------+---------------+-------------------------+----------------------------+--------------+-----------------------------+---------------------------+--------------+--------------+-------------------------------+----------------------+-----------------------------------+---------------------+------------------------+-------------------------+-------------------------------+-------------------+--------------------------+-----------------------------+-----------------------------+-------------+-------------+--------------+--------------------------+-----------------------------+------------------------------------+------------------------------------------+-------------+---------------+-------------+---------------+-------------+----------------------------+-----------------+--------------------+------------------+------------------+-------------+-------------+--------+---------------------+-------------------------------+----------------+----------------------+-----------+-------------+-------------+----------------------------+-------------------------------------+---------------------------------+---------------------------+------------------------------------+--------------+---------------+--------------------------------+--------------+--------------------------+------------------+---------------------------------+-------------------------------+---------------------------------+--------------+-----------------------+--------------------------+--------------------------+------------------+------------------------+--------------+---------------+-------------+---------------------------+-----------------------+--------------+-------------+---------------------------+----------------------------+---------------------+------------------------+-----------------------------+--------------------------------+-----------------------+------------------------------+--------------------+------------------------+-----------------------------+---------------------------+---------------------------------+-----------------+-------------+--------------------+-------------------------+----------------------------+-------------------------------+----------------------------------+------------------------+--------------------------+-----------------------------+----------------------------+----------------------+-------------------------+------------------------------+------------------------+----------------------------+-------------+-------+-------------+---------------------+---------------------------+------------------+------------------------------+-----------+--------------+-------------+-----------------------+-----------------------------------------------+-------------------------------------+------------+---------------+-----------------+-------------------------+-------------------------------------+---------------+---------+--------------------------+-------------+--------------------+\n",
      "|id_000644bb2|                          0|                     0|             0|                             0|                                0|                             0|                         0|                            0|                         0|                          0|                             0|            0|                               0|            0|             0|        0|                        0|                           0|                 0|                     0|                              0|                0|             0|         0|             0|         0|            0|           0|          0|            0|        0|                  0|                  0|                   0|                                         0|                     0|               0|                   0|                      0|                  0|                                        0|                                        0|                   0|                                      0|                             0|                      0|                                     0|            0|                0|                              0|                     0|                    0|            0|                    0|                      0|                           0|                              0|                           0|                      0|                0|                                     0|                               0|                      0|            0|              0|            0|                       0|                    0|                              0|                           0|                     0|                       0|                        0|                                0|                             0|       0|                   0|            0|                        0|                           0|             0|                 0|              0|                        0|                           0|             0|                            0|                          0|             0|             0|                              0|                     0|                                  0|                    0|                       0|                        0|                              0|                  0|                         0|                            0|                            0|            1|            0|             0|                         0|                            0|                                   0|                                         0|            0|              0|            0|              0|            0|                           0|                0|                   0|                 0|                 0|            0|            0|       0|                    0|                              0|               0|                     0|          0|            0|            0|                           0|                                    0|                                0|                          0|                                   0|             0|              0|                               0|             0|                         0|                 0|                                0|                              0|                                0|             0|                      0|                         0|                         0|                 0|                       0|             0|              0|            0|                          0|                      0|             0|            0|                          0|                           0|                    0|                       0|                            0|                               0|                      0|                             0|                   0|                       0|                            0|                          0|                                0|                0|            0|                   0|                        0|                           0|                              0|                                 0|                       0|                         0|                            0|                           0|                     0|                        0|                             0|                       0|                           0|            0|      0|            0|                    0|                          0|                 0|                             0|          0|             0|            0|                      0|                                              0|                                    0|           0|              0|                0|                        0|                                    0|              0|        0|                         0|            0|[0.8604,-1.798,-0...|\n",
      "|id_000779bfc|                          0|                     0|             0|                             0|                                0|                             0|                         0|                            0|                         0|                          0|                             0|            0|                               0|            0|             0|        0|                        0|                           0|                 0|                     0|                              0|                0|             0|         0|             0|         0|            0|           0|          0|            0|        0|                  0|                  0|                   0|                                         0|                     0|               0|                   0|                      0|                  0|                                        0|                                        0|                   0|                                      0|                             0|                      0|                                     0|            0|                0|                              0|                     0|                    0|            0|                    0|                      0|                           0|                              0|                           0|                      0|                0|                                     0|                               0|                      0|            0|              0|            0|                       0|                    0|                              0|                           0|                     0|                       0|                        0|                                0|                             0|       0|                   0|            0|                        0|                           0|             0|                 0|              0|                        0|                           0|             0|                            0|                          0|             0|             0|                              0|                     0|                                  0|                    0|                       0|                        0|                              0|                  0|                         0|                            0|                            0|            0|            0|             0|                         0|                            0|                                   0|                                         0|            0|              0|            0|              0|            0|                           0|                0|                   0|                 0|                 0|            0|            0|       0|                    0|                              0|               0|                     0|          0|            0|            0|                           0|                                    0|                                0|                          0|                                   0|             0|              0|                               0|             0|                         0|                 0|                                0|                              0|                                0|             0|                      0|                         0|                         0|                 0|                       0|             0|              0|            0|                          0|                      0|             0|            0|                          0|                           0|                    0|                       0|                            0|                               0|                      0|                             0|                   0|                       0|                            0|                          0|                                0|                0|            0|                   0|                        0|                           0|                              0|                                 0|                       0|                         0|                            0|                           0|                     0|                        0|                             0|                       0|                           0|            0|      0|            0|                    0|                          0|                 0|                             0|          0|             0|            0|                      0|                                              0|                                    0|           0|              0|                0|                        0|                                    0|              0|        0|                         0|            0|[-0.8245,-0.174,-...|\n",
      "|id_000a6266a|                          0|                     0|             0|                             0|                                0|                             0|                         0|                            0|                         0|                          0|                             0|            0|                               0|            0|             0|        0|                        0|                           0|                 0|                     0|                              0|                0|             0|         0|             0|         0|            0|           0|          0|            0|        0|                  0|                  0|                   0|                                         0|                     0|               0|                   0|                      0|                  0|                                        0|                                        0|                   0|                                      0|                             0|                      0|                                     0|            0|                1|                              0|                     0|                    0|            0|                    0|                      0|                           0|                              0|                           0|                      0|                0|                                     0|                               0|                      0|            0|              0|            0|                       0|                    0|                              0|                           0|                     0|                       0|                        0|                                0|                             0|       0|                   0|            0|                        0|                           0|             0|                 0|              0|                        0|                           0|             0|                            0|                          0|             0|             0|                              0|                     0|                                  0|                    0|                       0|                        0|                              0|                  0|                         0|                            0|                            0|            0|            0|             0|                         0|                            0|                                   0|                                         0|            0|              0|            0|              0|            0|                           0|                0|                   0|                 0|                 0|            0|            1|       0|                    0|                              0|               0|                     0|          0|            0|            0|                           0|                                    0|                                0|                          0|                                   0|             0|              0|                               0|             0|                         0|                 0|                                0|                              0|                                0|             0|                      0|                         0|                         0|                 0|                       0|             0|              1|            0|                          0|                      0|             0|            0|                          0|                           0|                    0|                       0|                            0|                               0|                      0|                             0|                   0|                       0|                            0|                          0|                                0|                0|            0|                   0|                        0|                           0|                              0|                                 0|                       0|                         0|                            0|                           0|                     0|                        0|                             0|                       0|                           0|            0|      0|            0|                    0|                          0|                 0|                             0|          0|             0|            0|                      0|                                              0|                                    0|           0|              0|                0|                        0|                                    0|              0|        0|                         0|            0|[-1.57,1.687,-3.6...|\n",
      "|id_0015fd391|                          0|                     0|             0|                             0|                                0|                             0|                         0|                            0|                         0|                          0|                             0|            0|                               0|            0|             0|        0|                        0|                           0|                 0|                     0|                              0|                0|             0|         0|             0|         0|            0|           0|          0|            0|        0|                  0|                  0|                   0|                                         0|                     0|               0|                   0|                      0|                  0|                                        0|                                        0|                   0|                                      0|                             0|                      0|                                     0|            0|                0|                              0|                     0|                    0|            0|                    0|                      0|                           0|                              0|                           0|                      0|                0|                                     0|                               0|                      0|            0|              0|            0|                       0|                    0|                              0|                           0|                     0|                       0|                        0|                                0|                             0|       0|                   0|            0|                        0|                           0|             0|                 0|              0|                        0|                           0|             0|                            0|                          0|             0|             0|                              0|                     0|                                  0|                    0|                       0|                        0|                              0|                  0|                         0|                            0|                            0|            0|            0|             0|                         0|                            0|                                   0|                                         0|            0|              0|            0|              0|            0|                           0|                0|                   0|                 0|                 0|            0|            0|       0|                    0|                              0|               0|                     0|          0|            0|            0|                           0|                                    0|                                0|                          0|                                   0|             0|              0|                               0|             0|                         0|                 0|                                0|                              0|                                0|             0|                      0|                         0|                         0|                 0|                       0|             0|              0|            0|                          0|                      0|             0|            0|                          0|                           0|                    0|                       0|                            0|                               0|                      0|                             0|                   0|                       0|                            0|                          0|                                0|                0|            0|                   0|                        0|                           0|                              0|                                 0|                       0|                         0|                            0|                           0|                     0|                        0|                             0|                       0|                           0|            0|      0|            0|                    0|                          0|                 0|                             0|          0|             0|            0|                      0|                                              0|                                    0|           0|              0|                0|                        0|                                    0|              0|        0|                         0|            0|[1.875,0.6832,0.2...|\n",
      "|id_001626bd3|                          0|                     0|             0|                             0|                                0|                             0|                         0|                            0|                         0|                          0|                             0|            0|                               0|            0|             0|        0|                        0|                           0|                 0|                     0|                              0|                0|             0|         0|             0|         0|            0|           0|          0|            0|        0|                  0|                  0|                   0|                                         0|                     0|               0|                   0|                      0|                  0|                                        0|                                        0|                   0|                                      0|                             0|                      0|                                     0|            0|                0|                              0|                     0|                    0|            0|                    0|                      1|                           0|                              0|                           0|                      0|                0|                                     0|                               0|                      0|            0|              0|            0|                       0|                    0|                              0|                           0|                     0|                       0|                        0|                                0|                             0|       0|                   0|            0|                        0|                           0|             0|                 0|              0|                        0|                           0|             0|                            0|                          0|             0|             0|                              0|                     0|                                  0|                    0|                       0|                        0|                              0|                  0|                         0|                            0|                            0|            0|            0|             0|                         0|                            0|                                   0|                                         0|            0|              0|            0|              0|            0|                           0|                0|                   0|                 0|                 0|            0|            0|       0|                    0|                              0|               0|                     0|          0|            0|            0|                           0|                                    0|                                0|                          0|                                   0|             0|              0|                               0|             0|                         0|                 0|                                0|                              0|                                0|             0|                      0|                         0|                         0|                 0|                       0|             0|              0|            0|                          0|                      0|             0|            0|                          0|                           0|                    0|                       0|                            0|                               0|                      0|                             0|                   0|                       0|                            0|                          0|                                0|                0|            0|                   0|                        0|                           0|                              0|                                 0|                       0|                         0|                            0|                           0|                     0|                        0|                             0|                       0|                           0|            0|      0|            0|                    0|                          0|                 0|                             0|          0|             0|            0|                      0|                                              0|                                    0|           0|              0|                0|                        0|                                    0|              0|        0|                         0|            0|[-0.3453,1.069,0....|\n",
      "|id_001762a82|                          0|                     0|             0|                             0|                                0|                             0|                         0|                            0|                         0|                          0|                             0|            0|                               0|            0|             0|        0|                        0|                           0|                 0|                     0|                              0|                0|             0|         0|             0|         0|            0|           0|          0|            0|        0|                  0|                  0|                   0|                                         0|                     0|               0|                   0|                      0|                  0|                                        0|                                        0|                   0|                                      0|                             0|                      0|                                     0|            0|                0|                              0|                     0|                    0|            0|                    0|                      0|                           0|                              0|                           0|                      0|                0|                                     0|                               0|                      0|            0|              0|            0|                       0|                    0|                              0|                           0|                     0|                       0|                        0|                                0|                             0|       0|                   0|            0|                        0|                           0|             0|                 0|              0|                        0|                           0|             0|                            0|                          0|             0|             0|                              0|                     0|                                  0|                    0|                       0|                        0|                              0|                  0|                         0|                            0|                            0|            1|            0|             0|                         0|                            0|                                   0|                                         0|            0|              0|            0|              0|            0|                           0|                0|                   0|                 0|                 0|            0|            0|       0|                    0|                              0|               0|                     0|          0|            0|            0|                           0|                                    0|                                0|                          0|                                   0|             0|              0|                               0|             0|                         0|                 0|                                0|                              0|                                0|             0|                      0|                         0|                         0|                 0|                       0|             0|              0|            0|                          0|                      0|             0|            0|                          0|                           0|                    0|                       0|                            0|                               0|                      0|                             0|                   0|                       0|                            0|                          0|                                0|                0|            0|                   0|                        0|                           0|                              0|                                 0|                       0|                         0|                            0|                           0|                     0|                        0|                             0|                       0|                           0|            0|      0|            0|                    0|                          0|                 0|                             0|          0|             0|            0|                      0|                                              0|                                    0|           0|              0|                0|                        0|                                    0|              0|        0|                         0|            0|[-0.4425,-0.5812,...|\n",
      "|id_001bd861f|                          0|                     0|             0|                             0|                                0|                             0|                         0|                            0|                         0|                          0|                             0|            0|                               0|            0|             0|        0|                        0|                           0|                 0|                     0|                              0|                0|             0|         0|             0|         0|            0|           0|          0|            0|        0|                  0|                  0|                   0|                                         0|                     0|               0|                   0|                      0|                  0|                                        0|                                        0|                   0|                                      0|                             0|                      0|                                     0|            0|                0|                              0|                     0|                    0|            0|                    0|                      0|                           0|                              0|                           0|                      0|                0|                                     0|                               0|                      0|            0|              0|            0|                       0|                    0|                              0|                           0|                     0|                       0|                        0|                                0|                             0|       0|                   0|            0|                        0|                           0|             0|                 0|              0|                        0|                           0|             0|                            0|                          0|             0|             0|                              0|                     0|                                  0|                    0|                       0|                        0|                              0|                  0|                         0|                            0|                            0|            0|            0|             0|                         0|                            0|                                   0|                                         0|            0|              0|            0|              0|            0|                           0|                0|                   0|                 0|                 0|            0|            0|       0|                    0|                              0|               0|                     0|          0|            0|            0|                           0|                                    0|                                0|                          0|                                   0|             0|              0|                               0|             0|                         0|                 0|                                0|                              0|                                0|             0|                      0|                         0|                         0|                 0|                       0|             0|              0|            0|                          0|                      0|             0|            0|                          0|                           0|                    0|                       0|                            0|                               0|                      0|                             0|                   0|                       0|                            0|                          0|                                0|                0|            0|                   0|                        0|                           0|                              0|                                 0|                       0|                         0|                            0|                           0|                     0|                        0|                             0|                       0|                           0|            0|      0|            0|                    0|                          0|                 0|                             0|          0|             0|            0|                      0|                                              0|                                    0|           0|              0|                0|                        0|                                    0|              0|        0|                         0|            0|[0.2091,4.613,-4....|\n",
      "|id_0020d0484|                          0|                     0|             0|                             0|                                0|                             0|                         0|                            0|                         0|                          0|                             0|            0|                               0|            0|             0|        0|                        0|                           0|                 0|                     0|                              0|                0|             0|         0|             0|         0|            0|           0|          0|            0|        0|                  0|                  0|                   0|                                         0|                     0|               0|                   0|                      0|                  0|                                        0|                                        0|                   0|                                      0|                             0|                      0|                                     0|            0|                0|                              0|                     0|                    0|            0|                    0|                      0|                           0|                              0|                           0|                      0|                0|                                     0|                               0|                      0|            1|              0|            0|                       0|                    0|                              0|                           0|                     0|                       0|                        0|                                0|                             0|       0|                   0|            0|                        0|                           0|             0|                 0|              0|                        0|                           0|             0|                            0|                          0|             0|             0|                              0|                     0|                                  0|                    0|                       0|                        0|                              0|                  0|                         0|                            0|                            0|            0|            0|             0|                         0|                            0|                                   0|                                         0|            0|              0|            0|              0|            0|                           0|                0|                   0|                 0|                 0|            0|            0|       0|                    0|                              0|               0|                     0|          0|            0|            0|                           0|                                    0|                                0|                          0|                                   0|             0|              0|                               0|             0|                         0|                 0|                                0|                              0|                                0|             0|                      0|                         0|                         0|                 0|                       0|             0|              0|            0|                          0|                      0|             0|            0|                          0|                           0|                    0|                       0|                            0|                               0|                      0|                             0|                   0|                       0|                            0|                          0|                                0|                0|            0|                   0|                        0|                           0|                              0|                                 0|                       0|                         0|                            0|                           0|                     0|                        0|                             0|                       0|                           0|            0|      0|            0|                    0|                          0|                 0|                             0|          0|             0|            0|                      0|                                              0|                                    0|           0|              0|                0|                        0|                                    0|              0|        0|                         0|            0|[-0.008,0.7351,-0...|\n",
      "|id_00224bf20|                          0|                     0|             0|                             0|                                0|                             0|                         0|                            0|                         0|                          0|                             0|            0|                               0|            0|             0|        0|                        0|                           0|                 0|                     0|                              0|                0|             0|         0|             0|         0|            0|           0|          0|            0|        0|                  0|                  0|                   0|                                         0|                     0|               0|                   0|                      0|                  0|                                        0|                                        0|                   0|                                      0|                             0|                      0|                                     0|            0|                0|                              0|                     0|                    0|            0|                    0|                      0|                           0|                              0|                           0|                      0|                0|                                     0|                               0|                      0|            0|              0|            0|                       0|                    0|                              0|                           0|                     0|                       0|                        0|                                0|                             0|       0|                   0|            0|                        0|                           0|             0|                 0|              0|                        0|                           0|             0|                            0|                          0|             0|             0|                              0|                     0|                                  0|                    0|                       0|                        0|                              0|                  0|                         0|                            0|                            0|            0|            0|             0|                         0|                            0|                                   0|                                         0|            0|              0|            0|              0|            0|                           0|                0|                   0|                 0|                 0|            0|            0|       0|                    0|                              0|               0|                     0|          0|            0|            0|                           0|                                    0|                                0|                          0|                                   0|             0|              0|                               0|             0|                         0|                 0|                                0|                              0|                                0|             0|                      0|                         0|                         0|                 0|                       0|             0|              0|            0|                          0|                      0|             0|            0|                          0|                           0|                    0|                       0|                            0|                               0|                      0|                             0|                   0|                       0|                            0|                          0|                                0|                0|            0|                   0|                        0|                           0|                              0|                                 0|                       0|                         0|                            0|                           0|                     0|                        0|                             0|                       0|                           0|            0|      0|            0|                    0|                          0|                 0|                             0|          0|             0|            0|                      0|                                              0|                                    0|           0|              0|                0|                        0|                                    0|              0|        0|                         0|            0|[0.4699,-0.0445,-...|\n",
      "|id_0023f063e|                          0|                     0|             0|                             0|                                0|                             0|                         0|                            0|                         0|                          0|                             0|            0|                               0|            0|             0|        0|                        0|                           0|                 0|                     0|                              0|                0|             0|         0|             0|         0|            0|           0|          0|            0|        0|                  0|                  0|                   0|                                         0|                     0|               0|                   0|                      0|                  0|                                        0|                                        0|                   0|                                      0|                             0|                      0|                                     0|            0|                0|                              0|                     0|                    0|            0|                    0|                      0|                           0|                              0|                           0|                      0|                0|                                     0|                               0|                      0|            0|              0|            0|                       0|                    0|                              0|                           0|                     0|                       0|                        0|                                0|                             0|       0|                   0|            0|                        0|                           0|             0|                 0|              0|                        0|                           0|             0|                            0|                          0|             0|             0|                              0|                     0|                                  0|                    0|                       0|                        0|                              0|                  0|                         0|                            0|                            0|            0|            0|             0|                         0|                            0|                                   0|                                         0|            0|              0|            0|              0|            0|                           0|                0|                   0|                 0|                 0|            0|            0|       0|                    0|                              0|               0|                     0|          0|            0|            0|                           0|                                    0|                                0|                          0|                                   0|             0|              0|                               0|             0|                         0|                 0|                                0|                              0|                                0|             0|                      0|                         0|                         0|                 0|                       0|             0|              0|            1|                          0|                      0|             0|            0|                          0|                           0|                    0|                       0|                            0|                               0|                      0|                             0|                   0|                       0|                            0|                          0|                                0|                0|            0|                   0|                        0|                           0|                              0|                                 0|                       0|                         0|                            0|                           0|                     0|                        0|                             0|                       0|                           0|            0|      0|            0|                    0|                          0|                 0|                             0|          0|             0|            0|                      0|                                              0|                                    0|           0|              0|                0|                        0|                                    0|              0|        0|                         0|            0|[0.1867,-0.074,-2...|\n",
      "|id_002452c7e|                          0|                     0|             0|                             0|                                0|                             0|                         0|                            0|                         0|                          0|                             0|            0|                               0|            0|             0|        0|                        0|                           0|                 0|                     0|                              0|                0|             0|         0|             0|         0|            0|           0|          0|            0|        0|                  0|                  0|                   0|                                         0|                     0|               0|                   0|                      0|                  0|                                        0|                                        0|                   0|                                      0|                             0|                      0|                                     0|            0|                0|                              0|                     0|                    0|            0|                    0|                      0|                           0|                              0|                           0|                      0|                0|                                     0|                               0|                      0|            0|              0|            0|                       0|                    0|                              0|                           0|                     0|                       0|                        0|                                0|                             0|       0|                   0|            0|                        0|                           0|             0|                 0|              0|                        0|                           0|             0|                            0|                          0|             0|             0|                              0|                     0|                                  0|                    0|                       0|                        0|                              0|                  0|                         0|                            0|                            0|            0|            0|             0|                         0|                            0|                                   0|                                         0|            0|              0|            0|              0|            0|                           0|                0|                   0|                 0|                 0|            0|            0|       0|                    0|                              0|               0|                     0|          0|            0|            0|                           0|                                    0|                                0|                          0|                                   0|             0|              0|                               0|             0|                         0|                 0|                                0|                              0|                                0|             0|                      0|                         0|                         0|                 0|                       0|             0|              0|            0|                          0|                      0|             0|            0|                          0|                           0|                    0|                       0|                            0|                               0|                      0|                             0|                   0|                       0|                            0|                          0|                                0|                0|            0|                   0|                        0|                           0|                              1|                                 0|                       0|                         0|                            0|                           0|                     0|                        0|                             0|                       0|                           0|            0|      0|            0|                    0|                          0|                 0|                             0|          0|             0|            0|                      0|                                              0|                                    0|           0|              0|                0|                        0|                                    0|              0|        0|                         0|            0|[0.5892,0.8453,0....|\n",
      "|id_0024bcd70|                          0|                     0|             0|                             0|                                0|                             0|                         0|                            0|                         0|                          0|                             0|            0|                               0|            0|             0|        0|                        0|                           0|                 0|                     0|                              0|                0|             0|         0|             0|         0|            0|           0|          0|            0|        0|                  0|                  0|                   0|                                         0|                     0|               0|                   0|                      0|                  0|                                        0|                                        0|                   0|                                      0|                             0|                      0|                                     0|            0|                0|                              0|                     0|                    0|            0|                    0|                      0|                           0|                              0|                           0|                      0|                0|                                     0|                               0|                      0|            0|              0|            0|                       0|                    0|                              0|                           0|                     0|                       0|                        0|                                0|                             0|       0|                   0|            0|                        0|                           1|             0|                 0|              0|                        0|                           0|             0|                            0|                          0|             0|             0|                              0|                     0|                                  0|                    1|                       0|                        0|                              0|                  0|                         0|                            0|                            0|            0|            0|             0|                         0|                            0|                                   0|                                         0|            0|              0|            0|              0|            0|                           0|                0|                   0|                 0|                 0|            0|            0|       0|                    0|                              0|               0|                     0|          0|            0|            0|                           0|                                    0|                                0|                          0|                                   0|             0|              0|                               0|             0|                         0|                 0|                                0|                              0|                                0|             0|                      0|                         0|                         0|                 0|                       0|             0|              0|            0|                          0|                      0|             0|            0|                          0|                           0|                    0|                       0|                            0|                               0|                      0|                             0|                   0|                       0|                            0|                          0|                                0|                0|            0|                   0|                        0|                           0|                              0|                                 0|                       0|                         0|                            0|                           0|                     0|                        0|                             0|                       0|                           0|            0|      0|            0|                    0|                          0|                 0|                             0|          0|             0|            0|                      0|                                              0|                                    0|           0|              0|                0|                        0|                                    0|              0|        0|                         0|            0|[0.1316,-1.069,-0...|\n",
      "|id_0025c5949|                          0|                     0|             0|                             0|                                0|                             0|                         0|                            0|                         0|                          0|                             0|            0|                               0|            0|             0|        0|                        0|                           0|                 0|                     0|                              0|                0|             0|         0|             0|         0|            0|           0|          0|            0|        0|                  0|                  0|                   0|                                         0|                     0|               0|                   0|                      0|                  0|                                        0|                                        0|                   0|                                      0|                             0|                      0|                                     0|            0|                0|                              0|                     0|                    0|            0|                    0|                      0|                           0|                              0|                           0|                      0|                0|                                     0|                               0|                      0|            0|              0|            0|                       0|                    0|                              0|                           0|                     0|                       0|                        0|                                0|                             0|       0|                   0|            0|                        0|                           0|             0|                 0|              0|                        0|                           0|             0|                            0|                          0|             0|             0|                              0|                     0|                                  0|                    0|                       0|                        0|                              0|                  0|                         0|                            0|                            0|            0|            0|             0|                         0|                            0|                                   0|                                         0|            0|              0|            0|              0|            0|                           0|                0|                   0|                 0|                 0|            0|            0|       0|                    0|                              0|               0|                     0|          0|            0|            0|                           0|                                    0|                                0|                          0|                                   0|             0|              0|                               1|             0|                         0|                 0|                                0|                              0|                                0|             0|                      0|                         0|                         0|                 0|                       0|             0|              0|            0|                          0|                      0|             0|            0|                          0|                           0|                    0|                       0|                            0|                               0|                      0|                             0|                   0|                       0|                            0|                          0|                                0|                0|            0|                   0|                        0|                           0|                              0|                                 0|                       0|                         0|                            0|                           0|                     0|                        0|                             0|                       0|                           0|            0|      0|            0|                    0|                          0|                 0|                             0|          0|             0|            0|                      0|                                              0|                                    0|           0|              0|                0|                        0|                                    0|              0|        0|                         0|            0|[1.02,0.2171,-0.5...|\n",
      "|id_00289dc6e|                          0|                     0|             0|                             0|                                0|                             0|                         0|                            0|                         0|                          0|                             0|            0|                               0|            0|             0|        0|                        0|                           0|                 0|                     0|                              0|                0|             0|         0|             0|         0|            0|           0|          0|            0|        0|                  0|                  0|                   0|                                         0|                     0|               0|                   0|                      0|                  0|                                        0|                                        0|                   0|                                      0|                             0|                      0|                                     0|            0|                0|                              0|                     0|                    0|            0|                    0|                      0|                           0|                              0|                           0|                      0|                0|                                     0|                               0|                      0|            0|              0|            0|                       0|                    0|                              0|                           0|                     0|                       0|                        0|                                0|                             0|       0|                   0|            1|                        0|                           0|             0|                 0|              0|                        0|                           0|             0|                            0|                          0|             0|             0|                              0|                     0|                                  0|                    0|                       0|                        0|                              0|                  0|                         0|                            0|                            0|            0|            0|             0|                         0|                            0|                                   0|                                         0|            0|              0|            0|              0|            0|                           0|                0|                   0|                 0|                 0|            0|            0|       0|                    0|                              0|               0|                     0|          0|            0|            0|                           0|                                    0|                                0|                          0|                                   0|             0|              0|                               0|             0|                         0|                 0|                                0|                              0|                                0|             0|                      0|                         0|                         0|                 0|                       0|             0|              0|            0|                          0|                      0|             0|            0|                          0|                           0|                    0|                       0|                            0|                               0|                      0|                             0|                   0|                       0|                            0|                          0|                                0|                0|            0|                   0|                        0|                           0|                              0|                                 0|                       0|                         0|                            0|                           0|                     0|                        0|                             0|                       0|                           0|            0|      0|            0|                    0|                          0|                 0|                             0|          0|             0|            0|                      0|                                              0|                                    0|           0|              0|                0|                        0|                                    0|              0|        0|                         0|            0|[1.204,-0.3679,0....|\n",
      "|id_002d31e2c|                          0|                     0|             0|                             0|                                0|                             0|                         0|                            0|                         0|                          0|                             0|            0|                               0|            0|             0|        0|                        0|                           0|                 0|                     0|                              0|                0|             0|         0|             0|         0|            0|           0|          0|            0|        0|                  0|                  0|                   0|                                         0|                     0|               0|                   0|                      0|                  0|                                        0|                                        0|                   0|                                      0|                             0|                      0|                                     0|            0|                0|                              0|                     0|                    0|            0|                    0|                      0|                           0|                              0|                           0|                      0|                0|                                     0|                               0|                      0|            0|              0|            0|                       0|                    0|                              0|                           0|                     0|                       0|                        0|                                0|                             0|       0|                   0|            0|                        0|                           0|             0|                 0|              0|                        0|                           0|             0|                            0|                          0|             0|             0|                              0|                     0|                                  0|                    0|                       0|                        0|                              0|                  0|                         0|                            0|                            0|            0|            0|             0|                         0|                            0|                                   0|                                         0|            0|              0|            0|              0|            0|                           0|                0|                   0|                 0|                 0|            0|            0|       0|                    0|                              0|               0|                     0|          0|            0|            0|                           0|                                    0|                                0|                          0|                                   0|             0|              0|                               0|             0|                         0|                 0|                                0|                              0|                                0|             0|                      0|                         0|                         0|                 0|                       0|             0|              0|            0|                          0|                      0|             0|            0|                          0|                           0|                    0|                       0|                            0|                               0|                      0|                             0|                   0|                       0|                            0|                          0|                                0|                0|            0|                   0|                        0|                           0|                              0|                                 0|                       0|                         0|                            0|                           0|                     0|                        0|                             0|                       0|                           0|            0|      0|            0|                    0|                          0|                 0|                             0|          0|             0|            0|                      0|                                              0|                                    0|           0|              0|                0|                        0|                                    0|              0|        0|                         0|            0|[0.6531,-0.2132,0...|\n",
      "|id_002e08ff8|                          0|                     0|             0|                             0|                                0|                             0|                         0|                            0|                         0|                          0|                             0|            0|                               0|            0|             0|        0|                        0|                           0|                 0|                     0|                              0|                0|             0|         0|             0|         0|            0|           0|          0|            0|        0|                  0|                  0|                   0|                                         0|                     0|               0|                   0|                      0|                  0|                                        0|                                        0|                   0|                                      0|                             0|                      0|                                     0|            0|                0|                              0|                     0|                    0|            0|                    0|                      0|                           0|                              0|                           0|                      0|                0|                                     0|                               0|                      0|            0|              0|            0|                       0|                    0|                              0|                           0|                     0|                       0|                        0|                                0|                             0|       0|                   0|            0|                        0|                           0|             0|                 0|              0|                        0|                           0|             0|                            0|                          0|             0|             0|                              0|                     0|                                  0|                    0|                       0|                        0|                              0|                  0|                         0|                            0|                            0|            0|            0|             0|                         0|                            0|                                   0|                                         0|            0|              0|            0|              0|            0|                           0|                0|                   0|                 0|                 0|            0|            0|       0|                    0|                              0|               0|                     0|          0|            0|            0|                           0|                                    0|                                0|                          0|                                   0|             0|              0|                               0|             0|                         0|                 0|                                0|                              0|                                0|             0|                      0|                         0|                         0|                 0|                       0|             0|              0|            0|                          0|                      0|             0|            0|                          0|                           0|                    0|                       0|                            0|                               0|                      0|                             1|                   0|                       0|                            0|                          0|                                0|                0|            0|                   0|                        0|                           0|                              0|                                 0|                       0|                         0|                            0|                           0|                     0|                        0|                             0|                       0|                           0|            0|      0|            0|                    0|                          0|                 0|                             0|          0|             0|            0|                      0|                                              0|                                    0|           0|              0|                0|                        0|                                    0|              0|        0|                         0|            0|[-0.7757,0.5141,0...|\n",
      "|id_002fb9c19|                          0|                     0|             0|                             0|                                0|                             0|                         0|                            0|                         0|                          0|                             0|            0|                               0|            0|             0|        0|                        0|                           0|                 0|                     0|                              0|                0|             0|         0|             0|         0|            0|           0|          0|            0|        0|                  0|                  0|                   0|                                         0|                     0|               0|                   0|                      0|                  0|                                        0|                                        0|                   0|                                      0|                             0|                      0|                                     0|            0|                0|                              0|                     0|                    0|            0|                    0|                      0|                           0|                              0|                           0|                      0|                0|                                     0|                               0|                      0|            0|              0|            0|                       0|                    0|                              0|                           0|                     0|                       0|                        0|                                0|                             0|       0|                   0|            0|                        0|                           0|             0|                 0|              0|                        0|                           0|             0|                            0|                          0|             0|             0|                              0|                     0|                                  0|                    0|                       0|                        0|                              0|                  0|                         0|                            0|                            0|            0|            0|             0|                         0|                            0|                                   0|                                         0|            0|              0|            0|              0|            0|                           0|                0|                   0|                 0|                 0|            0|            0|       0|                    0|                              0|               0|                     0|          0|            0|            0|                           0|                                    0|                                0|                          0|                                   0|             0|              0|                               0|             1|                         0|                 0|                                0|                              0|                                0|             0|                      0|                         0|                         0|                 0|                       0|             0|              0|            0|                          0|                      0|             0|            0|                          0|                           0|                    0|                       0|                            0|                               0|                      0|                             0|                   1|                       0|                            0|                          0|                                0|                0|            0|                   0|                        0|                           0|                              0|                                 0|                       0|                         0|                            0|                           0|                     0|                        0|                             0|                       0|                           0|            0|      0|            0|                    0|                          0|                 0|                             0|          0|             0|            0|                      0|                                              0|                                    0|           0|              0|                0|                        0|                                    0|              0|        0|                         0|            0|[-2.791,-1.776,7....|\n",
      "|id_0031dd989|                          0|                     0|             0|                             0|                                0|                             0|                         0|                            0|                         0|                          0|                             0|            0|                               0|            0|             0|        0|                        0|                           0|                 0|                     0|                              0|                0|             0|         0|             0|         0|            0|           0|          0|            0|        0|                  0|                  0|                   0|                                         0|                     0|               0|                   0|                      0|                  0|                                        0|                                        0|                   0|                                      0|                             0|                      0|                                     0|            0|                0|                              0|                     0|                    0|            0|                    0|                      0|                           0|                              0|                           0|                      0|                0|                                     0|                               0|                      0|            0|              0|            0|                       0|                    0|                              0|                           0|                     0|                       0|                        0|                                0|                             0|       0|                   0|            0|                        0|                           0|             0|                 0|              0|                        0|                           0|             0|                            0|                          0|             0|             0|                              0|                     0|                                  0|                    0|                       0|                        0|                              0|                  0|                         0|                            0|                            0|            0|            0|             1|                         0|                            0|                                   0|                                         0|            0|              0|            0|              0|            0|                           0|                0|                   0|                 0|                 0|            0|            0|       0|                    0|                              0|               0|                     0|          0|            0|            0|                           0|                                    0|                                0|                          0|                                   0|             0|              0|                               0|             0|                         0|                 0|                                0|                              0|                                0|             0|                      0|                         0|                         0|                 0|                       0|             0|              0|            0|                          0|                      0|             0|            0|                          0|                           0|                    0|                       0|                            0|                               0|                      0|                             0|                   0|                       0|                            0|                          0|                                0|                0|            0|                   0|                        0|                           0|                              0|                                 0|                       0|                         0|                            0|                           0|                     0|                        0|                             0|                       0|                           0|            0|      0|            0|                    0|                          0|                 0|                             0|          0|             0|            0|                      0|                                              0|                                    0|           0|              0|                0|                        0|                                    0|              0|        0|                         0|            0|[-0.2351,-0.0726,...|\n",
      "|id_003603254|                          0|                     0|             0|                             0|                                0|                             0|                         0|                            0|                         0|                          0|                             0|            0|                               0|            0|             0|        0|                        0|                           0|                 0|                     0|                              0|                0|             0|         0|             0|         0|            0|           0|          0|            0|        0|                  0|                  0|                   0|                                         0|                     0|               0|                   0|                      1|                  0|                                        0|                                        0|                   0|                                      0|                             0|                      0|                                     0|            0|                1|                              0|                     0|                    0|            0|                    0|                      0|                           0|                              0|                           0|                      0|                0|                                     0|                               0|                      0|            0|              0|            0|                       0|                    0|                              0|                           0|                     0|                       0|                        0|                                0|                             0|       0|                   0|            0|                        0|                           0|             0|                 0|              0|                        0|                           0|             0|                            0|                          0|             0|             1|                              0|                     0|                                  0|                    0|                       0|                        0|                              0|                  0|                         0|                            0|                            0|            0|            0|             0|                         0|                            0|                                   0|                                         0|            0|              0|            0|              0|            0|                           0|                0|                   0|                 0|                 0|            1|            0|       0|                    0|                              0|               0|                     0|          0|            0|            0|                           0|                                    0|                                0|                          0|                                   0|             0|              0|                               0|             0|                         0|                 0|                                0|                              0|                                0|             0|                      0|                         0|                         0|                 0|                       0|             0|              0|            0|                          0|                      0|             0|            0|                          0|                           0|                    0|                       0|                            0|                               0|                      0|                             0|                   0|                       0|                            0|                          0|                                0|                0|            0|                   0|                        0|                           0|                              0|                                 0|                       0|                         0|                            0|                           0|                     0|                        0|                             0|                       0|                           0|            0|      0|            0|                    0|                          0|                 0|                             0|          0|             0|            0|                      0|                                              0|                                    0|           0|              0|                0|                        0|                                    0|              0|        0|                         0|            0|[-1.06,1.623,1.09...|\n",
      "|id_0036b0342|                          0|                     0|             0|                             0|                                0|                             0|                         0|                            0|                         0|                          0|                             0|            0|                               0|            0|             0|        0|                        0|                           0|                 0|                     0|                              0|                0|             0|         0|             0|         0|            0|           0|          0|            0|        0|                  0|                  0|                   0|                                         0|                     0|               0|                   0|                      0|                  0|                                        0|                                        0|                   0|                                      0|                             0|                      0|                                     0|            0|                0|                              0|                     0|                    0|            0|                    0|                      0|                           0|                              0|                           0|                      0|                0|                                     0|                               0|                      0|            0|              0|            0|                       0|                    0|                              0|                           0|                     0|                       0|                        0|                                0|                             0|       0|                   0|            1|                        0|                           0|             0|                 0|              0|                        0|                           0|             0|                            0|                          0|             0|             0|                              0|                     0|                                  0|                    0|                       0|                        0|                              0|                  0|                         0|                            0|                            0|            0|            0|             0|                         0|                            0|                                   0|                                         0|            0|              0|            0|              0|            0|                           0|                0|                   0|                 0|                 0|            0|            0|       0|                    0|                              0|               0|                     0|          0|            0|            0|                           0|                                    0|                                0|                          0|                                   0|             0|              0|                               0|             0|                         0|                 0|                                0|                              0|                                0|             0|                      0|                         0|                         0|                 0|                       0|             0|              0|            0|                          0|                      0|             0|            0|                          0|                           0|                    0|                       0|                            0|                               0|                      0|                             0|                   0|                       0|                            0|                          0|                                0|                0|            0|                   0|                        0|                           0|                              0|                                 0|                       0|                         0|                            0|                           0|                     0|                        0|                             0|                       0|                           0|            0|      0|            0|                    0|                          0|                 0|                             0|          0|             0|            0|                      0|                                              0|                                    0|           0|              0|                0|                        0|                                    0|              0|        0|                         0|            0|[-0.852,0.2632,0....|\n",
      "+------------+---------------------------+----------------------+--------------+------------------------------+---------------------------------+------------------------------+--------------------------+-----------------------------+--------------------------+---------------------------+------------------------------+-------------+--------------------------------+-------------+--------------+---------+-------------------------+----------------------------+------------------+----------------------+-------------------------------+-----------------+--------------+----------+--------------+----------+-------------+------------+-----------+-------------+---------+-------------------+-------------------+--------------------+------------------------------------------+----------------------+----------------+--------------------+-----------------------+-------------------+-----------------------------------------+-----------------------------------------+--------------------+---------------------------------------+------------------------------+-----------------------+--------------------------------------+-------------+-----------------+-------------------------------+----------------------+---------------------+-------------+---------------------+-----------------------+----------------------------+-------------------------------+----------------------------+-----------------------+-----------------+--------------------------------------+--------------------------------+-----------------------+-------------+---------------+-------------+------------------------+---------------------+-------------------------------+----------------------------+----------------------+------------------------+-------------------------+---------------------------------+------------------------------+--------+--------------------+-------------+-------------------------+----------------------------+--------------+------------------+---------------+-------------------------+----------------------------+--------------+-----------------------------+---------------------------+--------------+--------------+-------------------------------+----------------------+-----------------------------------+---------------------+------------------------+-------------------------+-------------------------------+-------------------+--------------------------+-----------------------------+-----------------------------+-------------+-------------+--------------+--------------------------+-----------------------------+------------------------------------+------------------------------------------+-------------+---------------+-------------+---------------+-------------+----------------------------+-----------------+--------------------+------------------+------------------+-------------+-------------+--------+---------------------+-------------------------------+----------------+----------------------+-----------+-------------+-------------+----------------------------+-------------------------------------+---------------------------------+---------------------------+------------------------------------+--------------+---------------+--------------------------------+--------------+--------------------------+------------------+---------------------------------+-------------------------------+---------------------------------+--------------+-----------------------+--------------------------+--------------------------+------------------+------------------------+--------------+---------------+-------------+---------------------------+-----------------------+--------------+-------------+---------------------------+----------------------------+---------------------+------------------------+-----------------------------+--------------------------------+-----------------------+------------------------------+--------------------+------------------------+-----------------------------+---------------------------+---------------------------------+-----------------+-------------+--------------------+-------------------------+----------------------------+-------------------------------+----------------------------------+------------------------+--------------------------+-----------------------------+----------------------------+----------------------+-------------------------+------------------------------+------------------------+----------------------------+-------------+-------+-------------+---------------------+---------------------------+------------------+------------------------------+-----------+--------------+-------------+-----------------------+-----------------------------------------------+-------------------------------------+------------+---------------+-----------------+-------------------------+-------------------------------------+---------------+---------+--------------------------+-------------+--------------------+\n",
      "only showing top 20 rows\n",
      "\n"
     ]
    }
   ],
   "source": [
    "df4.cache()\n",
    "df4.show()"
   ]
  },
  {
   "cell_type": "code",
   "execution_count": null,
   "metadata": {},
   "outputs": [],
   "source": [
    "# This function is responsible for running our ml pipeline\n",
    "\n",
    "#df is the train dataset, label_name is the label we want to do the training on\n",
    "def train_individual_label(df, label_name, seed = 42, models=['dt', 'lr']):\n",
    "    try:\n",
    "    \n",
    "    # we need at least 2 positive instances for this particular label_name\n",
    "        if df.filter(df[label_name] == 1).count() >= 2:\n",
    "\n",
    "            # dataframe consisting only of the train features and the label name\n",
    "            temp_df = df.select('feats', label_name)\n",
    "\n",
    "            # stratify split of the dataframe for train-test split\n",
    "            fractions = {1: 0.8, 0: 0.8}\n",
    "            train_df = temp_df.stat.sampleBy(label_name, fractions, seed, )\n",
    "            test_df =  temp_df.subtract(train_df)\n",
    "\n",
    "            train_df = train_df.select(F.col(label_name).alias('label'), F.col('feats').alias('features'))  # Just renaming these columns\n",
    "            test_df = test_df.select(F.col(label_name).alias('label'), F.col('feats').alias('features')) # Just renaming these columns\n",
    "\n",
    "\n",
    "\n",
    "            # another layer of feature selection using random forrest before training the ml models\n",
    "            clf = RandomForestClassifier(numTrees=20, maxDepth=5, featuresCol='features',  seed=42)\n",
    "            model = clf.fit(train_df)\n",
    "            feature_importance = model.featureImportances.toArray()\n",
    "\n",
    "            # indeces of only the top 5% of features\n",
    "            important_feature_idx = feature_importance.argsort()[-int(0.05 * len(feature_importance)):]  \n",
    "\n",
    "\n",
    "\n",
    "            # Now, after getting the index, filter the feature vector based on the above feature importance index\n",
    "            slicer = VectorSlicer(inputCol=\"features\", outputCol=\"sub_features\", indices=important_feature_idx)\n",
    "            final_train_df_sub_feats =  slicer.transform(train_df).drop('features')\n",
    "            final_test_df_sub_feats = slicer.transform(test_df).drop('features')\n",
    "\n",
    "            final_train_df_sub_feats = final_train_df_sub_feats\\\n",
    "                                 .select(F.col('label'), F.col('sub_features').alias('features'))  # Just renaming these columns\n",
    "\n",
    "            final_test_df_sub_feats = final_test_df_sub_feats\\\n",
    "                                 .select(F.col('label'), F.col('sub_features').alias('features'))  # Just renaming these columns\n",
    "\n",
    "\n",
    "\n",
    "\n",
    "            # Use CV to train a logistic regression model\n",
    "            if('lr' in models):\n",
    "                lr = LogisticRegression(maxIter=10)\n",
    "                lr_paramGrid = ParamGridBuilder() \\\n",
    "                                .addGrid(lr.regParam, [ 0.1, 0.01]) \\\n",
    "                                .addGrid(lr.elasticNetParam, [1,  0])\\\n",
    "                                .build()\n",
    "\n",
    "\n",
    "                lr_evaluator = MulticlassClassificationEvaluator(metricName='logLoss')\n",
    "                print(\"starting training\")\n",
    "                lr_crossval = StratifiedCrossValidator(estimator=lr,\n",
    "                                      estimatorParamMaps=lr_paramGrid,\n",
    "                                      evaluator=lr_evaluator,\n",
    "                                      numFolds=3,\n",
    "                                      parallelism=4)  \n",
    "\n",
    "                lr_cvModel = lr_crossval.fit(final_train_df_sub_feats)\n",
    "                print(\"finish training\")\n",
    "\n",
    "                lr_prediction_df = lr_cvModel.transform(final_test_df_sub_feats)\n",
    "\n",
    "                lr_cvModel.save(f\"./logistics/{label_name}.model\")\n",
    "                lr_prediction_df.write.save(f\"./logistics/{label_name}_prediction_df.parquet\", format=\"parquet\")\n",
    "                final_train_df_sub_feats.write.save(f\"./logistics/{label_name}_train_df.parquet\", format=\"parquet\")\n",
    "\n",
    "                lr_log_loss = lr_evaluator.evaluate(lr_prediction_df)\n",
    "\n",
    "                with open(f\"./logistics/log.log\", 'a') as f:\n",
    "                    f.write('logistics, '+ str(label_name) + ', ' + str(lr_log_loss) + '\\n') \n",
    "\n",
    "            ##########\n",
    "\n",
    "            # Use CV to train a naive-bayes classifer\n",
    "            if('dt' in models):\n",
    "                dt = DecisionTreeClassifier(featuresCol='features')\n",
    "\n",
    "\n",
    "\n",
    "\n",
    "\n",
    "                dt_paramGrid = ParamGridBuilder() \\\n",
    "                                                .addGrid(dt.maxDepth, [5, 10])\\\n",
    "                                                .addGrid(dt.maxBins, [16, 32])\\\n",
    "                                                .build()\n",
    "\n",
    "                dt_evaluator = MulticlassClassificationEvaluator(metricName='logLoss')\n",
    "                dt_crossval = StratifiedCrossValidator(estimator=dt,\n",
    "                                      estimatorParamMaps=dt_paramGrid,\n",
    "                                      evaluator=dt_evaluator,\n",
    "                                      numFolds=3,\n",
    "                                      parallelism=4)  \n",
    "\n",
    "                dt_cvModel = dt_crossval.fit(final_train_df_sub_feats)\n",
    "                dt_prediction_df = dt_cvModel.transform(final_test_df_sub_feats)\n",
    "\n",
    "                dt_cvModel.save(f\"./decision-tree/{label_name}.model\")\n",
    "                dt_prediction_df.write.save(f\"./decision-tree/{label_name}_prediction_df.parquet\", format=\"parquet\")\n",
    "                final_train_df_sub_feats.write.save(f\"./decision-tree/{label_name}_train_df.parquet\", format=\"parquet\")\n",
    "\n",
    "                dt_log_loss = dt_evaluator.evaluate(dt_prediction_df)\n",
    "\n",
    "                with open(f\"./decision-tree/log.log\", 'a') as f:\n",
    "                    f.write('decision-tree, '+ str(label_name) + ', ' + str(dt_log_loss) + '\\n') \n",
    "\n",
    "\n",
    "\n",
    "            return True\n",
    "        else:\n",
    "            if('lr' in models): \n",
    "                with open(f\"./logistics/log.log\", 'a') as f:\n",
    "                    f.write('logistics, '+ str(label_name) + ', ' + 'False' + '\\n') \n",
    "            if('dt' in models): \n",
    "                with open(f\"./decision-tree/log.log\", 'a') as f:\n",
    "                    f.write('decision-tree, '+ str(label_name) + ', ' + 'False' + '\\n') \n",
    "\n",
    "\n",
    "            return False\n",
    "    except:\n",
    "        print(\"label name \" + label_name + 'errored')"
   ]
  },
  {
   "cell_type": "markdown",
   "metadata": {},
   "source": [
    "Stratify \n",
    "ref: https://stackoverflow.com/questions/47637760/stratified-sampling-with-pyspark/47672336"
   ]
  },
  {
   "cell_type": "code",
   "execution_count": null,
   "metadata": {},
   "outputs": [],
   "source": [
    "\n",
    "\n",
    "\n",
    "temp_dict = {}\n",
    "for name in tqdm(df_label.columns[1:]):\n",
    "    model = 'lr'\n",
    "    print(os.path.exists(f'./logistics/{name}.model'), name)\n",
    "    if not os.path.exists(f'./logistics/{name}.model'):\n",
    "        temp_dict[name] = train_individual_label(df4,  name, models = [model] )\n"
   ]
  },
  {
   "cell_type": "code",
   "execution_count": 184,
   "metadata": {},
   "outputs": [],
   "source": [
    "!rm -rf ./decision-tree\n",
    "!rm -rf ./logistics\n",
    "!mkdir ./logistics\n",
    "!mkdir ./decision-tree\n",
    "\n",
    "\n",
    "with open(f\"./logistics/log.log\", 'w') as f:\n",
    "    pass\n",
    "with open(f\"./decision-tree/log.log\", 'w') as f:\n",
    "    pass\n"
   ]
  },
  {
   "cell_type": "code",
   "execution_count": 185,
   "metadata": {},
   "outputs": [],
   "source": []
  },
  {
   "cell_type": "code",
   "execution_count": null,
   "metadata": {},
   "outputs": [],
   "source": []
  },
  {
   "cell_type": "code",
   "execution_count": null,
   "metadata": {},
   "outputs": [],
   "source": []
  },
  {
   "cell_type": "code",
   "execution_count": null,
   "metadata": {},
   "outputs": [],
   "source": []
  },
  {
   "cell_type": "code",
   "execution_count": null,
   "metadata": {},
   "outputs": [],
   "source": []
  },
  {
   "cell_type": "code",
   "execution_count": null,
   "metadata": {},
   "outputs": [],
   "source": []
  },
  {
   "cell_type": "code",
   "execution_count": null,
   "metadata": {},
   "outputs": [],
   "source": []
  },
  {
   "cell_type": "code",
   "execution_count": null,
   "metadata": {},
   "outputs": [],
   "source": []
  },
  {
   "cell_type": "code",
   "execution_count": null,
   "metadata": {},
   "outputs": [],
   "source": []
  },
  {
   "cell_type": "markdown",
   "metadata": {},
   "source": [
    "# SCRAP"
   ]
  },
  {
   "cell_type": "code",
   "execution_count": 2,
   "metadata": {},
   "outputs": [
    {
     "ename": "SyntaxError",
     "evalue": "invalid syntax (<ipython-input-2-0a09355b97ea>, line 5)",
     "output_type": "error",
     "traceback": [
      "\u001b[0;36m  File \u001b[0;32m\"<ipython-input-2-0a09355b97ea>\"\u001b[0;36m, line \u001b[0;32m5\u001b[0m\n\u001b[0;31m    obj.\u001b[0m\n\u001b[0m        ^\u001b[0m\n\u001b[0;31mSyntaxError\u001b[0m\u001b[0;31m:\u001b[0m invalid syntax\n"
     ]
    }
   ],
   "source": [
    "from pyspark.ml.regression import DecisionTreeRegressor\n",
    "obj = DecisionTreeRegressor()\n",
    "\n",
    "\n",
    "obj."
   ]
  },
  {
   "cell_type": "code",
   "execution_count": 22,
   "metadata": {},
   "outputs": [],
   "source": []
  },
  {
   "cell_type": "code",
   "execution_count": 23,
   "metadata": {},
   "outputs": [
    {
     "data": {
      "text/plain": [
       "DecisionTreeClassifier_8acc7bf55f18"
      ]
     },
     "execution_count": 23,
     "metadata": {},
     "output_type": "execute_result"
    }
   ],
   "source": [
    "DecisionTreeClassifier()."
   ]
  },
  {
   "cell_type": "code",
   "execution_count": 60,
   "metadata": {},
   "outputs": [
    {
     "ename": "TypeError",
     "evalue": "'list' object is not callable",
     "output_type": "error",
     "traceback": [
      "\u001b[0;31m---------------------------------------------------------------------------\u001b[0m",
      "\u001b[0;31mTypeError\u001b[0m                                 Traceback (most recent call last)",
      "\u001b[0;32m<ipython-input-60-5511764976d0>\u001b[0m in \u001b[0;36m<module>\u001b[0;34m\u001b[0m\n\u001b[1;32m      1\u001b[0m \u001b[0mmy_set\u001b[0m \u001b[0;34m=\u001b[0m \u001b[0;34m{\u001b[0m\u001b[0;34m'Geeks'\u001b[0m\u001b[0;34m,\u001b[0m \u001b[0;34m'for'\u001b[0m\u001b[0;34m,\u001b[0m \u001b[0;34m'geeks'\u001b[0m\u001b[0;34m}\u001b[0m\u001b[0;34m\u001b[0m\u001b[0;34m\u001b[0m\u001b[0m\n\u001b[1;32m      2\u001b[0m \u001b[0;34m\u001b[0m\u001b[0m\n\u001b[0;32m----> 3\u001b[0;31m \u001b[0ms\u001b[0m \u001b[0;34m=\u001b[0m \u001b[0mlist\u001b[0m\u001b[0;34m(\u001b[0m\u001b[0mmy_set\u001b[0m\u001b[0;34m)\u001b[0m\u001b[0;34m\u001b[0m\u001b[0;34m\u001b[0m\u001b[0m\n\u001b[0m",
      "\u001b[0;31mTypeError\u001b[0m: 'list' object is not callable"
     ]
    }
   ],
   "source": [
    "my_set = {'Geeks', 'for', 'geeks'} \n",
    "  \n",
    "s = list(my_set)"
   ]
  },
  {
   "cell_type": "code",
   "execution_count": 62,
   "metadata": {},
   "outputs": [
    {
     "data": {
      "text/plain": [
       "list"
      ]
     },
     "execution_count": 62,
     "metadata": {},
     "output_type": "execute_result"
    }
   ],
   "source": [
    "type(list)"
   ]
  },
  {
   "cell_type": "code",
   "execution_count": null,
   "metadata": {},
   "outputs": [],
   "source": [
    "cell_feature_names"
   ]
  },
  {
   "cell_type": "code",
   "execution_count": 32,
   "metadata": {},
   "outputs": [
    {
     "name": "stdout",
     "output_type": "stream",
     "text": [
      "+-------+\n",
      "|cp_type|\n",
      "+-------+\n",
      "| trt_cp|\n",
      "+-------+\n",
      "\n"
     ]
    }
   ],
   "source": [
    "df.select(\"cp_type\").distinct().show()"
   ]
  },
  {
   "cell_type": "code",
   "execution_count": null,
   "metadata": {},
   "outputs": [],
   "source": [
    "fractions = df.select(\"x1\").distinct().withColumn(\"fraction\", lit(0.8)).rdd.collectAsMap()\n"
   ]
  },
  {
   "cell_type": "code",
   "execution_count": 6,
   "metadata": {},
   "outputs": [],
   "source": [
    "from pyspark.sql.functions import lit\n"
   ]
  },
  {
   "cell_type": "code",
   "execution_count": 7,
   "metadata": {},
   "outputs": [
    {
     "data": {
      "text/plain": [
       "Column<b'0.8'>"
      ]
     },
     "execution_count": 7,
     "metadata": {},
     "output_type": "execute_result"
    }
   ],
   "source": [
    "lit(0.8)"
   ]
  },
  {
   "cell_type": "code",
   "execution_count": 8,
   "metadata": {},
   "outputs": [],
   "source": [
    "from pyspark.sql.functions import lit\n",
    "list = [(2147481832,23355149,1),(2147481832,973010692,1),(2147481832,2134870842,1),(2147481832,541023347,1),(2147481832,1682206630,1),(2147481832,1138211459,1),(2147481832,852202566,1),(2147481832,201375938,1),(2147481832,486538879,1),(2147481832,919187908,1),(214748183,919187908,1),(214748183,91187908,1)]\n",
    "df = spark.createDataFrame(list, [\"x1\",\"x2\",\"x3\"])"
   ]
  },
  {
   "cell_type": "code",
   "execution_count": 9,
   "metadata": {},
   "outputs": [
    {
     "data": {
      "text/plain": [
       "DataFrame[x1: bigint, x2: bigint, x3: bigint]"
      ]
     },
     "execution_count": 9,
     "metadata": {},
     "output_type": "execute_result"
    }
   ],
   "source": [
    "df"
   ]
  },
  {
   "cell_type": "code",
   "execution_count": 10,
   "metadata": {},
   "outputs": [],
   "source": [
    "fractions = df.select(\"x1\").distinct().withColumn(\"fraction\", lit(0.8)).rdd.collectAsMap()\n"
   ]
  },
  {
   "cell_type": "code",
   "execution_count": 12,
   "metadata": {},
   "outputs": [
    {
     "data": {
      "text/plain": [
       "{2147481832: 0.8, 214748183: 0.8}"
      ]
     },
     "execution_count": 12,
     "metadata": {},
     "output_type": "execute_result"
    }
   ],
   "source": [
    "fractions"
   ]
  },
  {
   "cell_type": "code",
   "execution_count": 15,
   "metadata": {},
   "outputs": [
    {
     "name": "stdout",
     "output_type": "stream",
     "text": [
      "+----------+--------+\n",
      "|        x1|fraction|\n",
      "+----------+--------+\n",
      "|2147481832|     0.8|\n",
      "| 214748183|     0.8|\n",
      "+----------+--------+\n",
      "\n"
     ]
    }
   ],
   "source": [
    "df.select(\"x1\").distinct().withColumn(\"fraction\", lit(0.8)).show()"
   ]
  },
  {
   "cell_type": "code",
   "execution_count": null,
   "metadata": {},
   "outputs": [],
   "source": [
    "temp_df = features_and_targets.withColumn('target_vector', (vector_to_string(array([features_and_targets[col] for col in target_names])))).select(['sig_id', 'target_vector'])\n",
    "string_indexer = StringIndexer(inputCol = 'target_vector', outputCol = 'target')\n",
    "string_indexer_model = string_indexer.fit(temp_df)\n",
    "temp_df = string_indexer_model.transform(temp_df).drop('target_vector')\n",
    "\n",
    "data = features_and_targets.join(temp_df, features_and_targets.sig_id == temp_df.sig_id, how = 'inner').drop(temp_df.sig_id)"
   ]
  }
 ],
 "metadata": {
  "kernelspec": {
   "display_name": "Python 3",
   "language": "python",
   "name": "python3"
  },
  "language_info": {
   "codemirror_mode": {
    "name": "ipython",
    "version": 3
   },
   "file_extension": ".py",
   "mimetype": "text/x-python",
   "name": "python",
   "nbconvert_exporter": "python",
   "pygments_lexer": "ipython3",
   "version": "3.8.3"
  }
 },
 "nbformat": 4,
 "nbformat_minor": 4
}
