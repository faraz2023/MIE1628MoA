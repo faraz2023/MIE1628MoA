{
 "cells": [
  {
   "cell_type": "code",
   "execution_count": 1,
   "metadata": {},
   "outputs": [],
   "source": [
    "import numpy as np\n",
    "import pandas as pd\n",
    "import matplotlib.pyplot as plt\n",
    "import seaborn as sns\n",
    "from sklearn.preprocessing import StandardScaler, LabelEncoder, OneHotEncoder\n",
    "from sklearn.tree import DecisionTreeClassifier, plot_tree\n",
    "from sklearn.metrics import accuracy_score"
   ]
  },
  {
   "cell_type": "code",
   "execution_count": 2,
   "metadata": {},
   "outputs": [
    {
     "name": "stdout",
     "output_type": "stream",
     "text": [
      "/home/jwillow/Documents/UofT/MIE1628/notebook\n"
     ]
    }
   ],
   "source": [
    "!pwd"
   ]
  },
  {
   "cell_type": "code",
   "execution_count": 3,
   "metadata": {},
   "outputs": [],
   "source": [
    "train_features = './lish-moa/train_features.csv'\n",
    "train_labels = './lish-moa/train_targets_scored.csv'\n",
    "\n",
    "test_features = './lish-moa/test_features.csv'\n",
    "test_labels = './lish-moa/train_targets_nonscored.csv'\n",
    "\n",
    "train_features_df = pd.read_csv(\n",
    "    filepath_or_buffer = train_features,\n",
    "    sep=',',\n",
    "    delimiter=None,\n",
    "    header='infer',\n",
    "    index_col='sig_id',\n",
    ")\n",
    "\n",
    "train_labels_df = pd.read_csv(\n",
    "    filepath_or_buffer = train_labels,\n",
    "    sep=',',\n",
    "    delimiter=None,\n",
    "    header='infer',\n",
    "    index_col='sig_id',\n",
    ")"
   ]
  },
  {
   "cell_type": "markdown",
   "metadata": {},
   "source": [
    "Data-Process: Checking for data types"
   ]
  },
  {
   "cell_type": "code",
   "execution_count": 4,
   "metadata": {},
   "outputs": [
    {
     "name": "stdout",
     "output_type": "stream",
     "text": [
      "Train features dimensions:  (23814, 875)\n",
      "Number of NULL values:  0\n",
      "873 numeric columns and 2 categoical columns\n"
     ]
    }
   ],
   "source": [
    "print('Train features dimensions: ', train_features_df.shape)\n",
    "total_nans = train_features_df.isnull().sum().sum()\n",
    "print('Number of NULL values: ', total_nans)\n",
    "\n",
    "# train_features_df['cp_type'].dtype\n",
    "numeric_cols = train_features_df.dtypes[train_features_df.dtypes != \"object\"].index.tolist() \n",
    "categorical_cols = train_features_df.dtypes[train_features_df.dtypes == \"object\"].index.tolist()\n",
    "\n",
    "print(f'{len(numeric_cols)} numeric columns and {len(categorical_cols)} categoical columns')"
   ]
  },
  {
   "cell_type": "markdown",
   "metadata": {},
   "source": [
    "### Data Process - check cp_type, drop rows where cp_type == ctl_vehicle"
   ]
  },
  {
   "cell_type": "code",
   "execution_count": 5,
   "metadata": {},
   "outputs": [
    {
     "name": "stdout",
     "output_type": "stream",
     "text": [
      "If cp_type==ctl_vehicle, there is no MoI activation\n"
     ]
    }
   ],
   "source": [
    "# train_features_df[train_features_df['cp_type']=='ctl_vehicle']\n",
    "'''\n",
    "Label-based indexing. Check the activation of MoI for trt_cp type \n",
    "\n",
    "can use this to plot the distribution plot for different cp_types\n",
    "'''\n",
    "index_for_trt_cp_type = train_features_df[train_features_df['cp_type']=='trt_cp'].index\n",
    "trt_cp_label_df = train_labels_df.loc[index_for_trt_cp_type]\n",
    "trt_cp_label_df.sum()\n",
    "\n",
    "index_for_ctl_cp_type = train_features_df[train_features_df['cp_type']=='ctl_vehicle'].index\n",
    "ctl_cp_label_df = train_labels_df.loc[index_for_ctl_cp_type]\n",
    "ctl_cp_label_df.sum().sum()\n",
    "\n",
    "print('If cp_type==ctl_vehicle, there is no MoI activation')\n",
    "\n",
    "# Drop the rows with cp_type = ctl_vehicle\n",
    "train_features_df = train_features_df[train_features_df['cp_type']=='trt_cp']\n",
    "train_features_df.drop(labels='cp_type', axis=1, inplace=True)\n",
    "train_labels_df = train_labels_df.loc[index_for_trt_cp_type]"
   ]
  },
  {
   "cell_type": "markdown",
   "metadata": {},
   "source": [
    "### Data-Process: Distribution of MoI for cp_dose D1 vs D2"
   ]
  },
  {
   "cell_type": "code",
   "execution_count": 6,
   "metadata": {},
   "outputs": [
    {
     "data": {
      "text/plain": [
       "5-alpha_reductase_inhibitor               17\n",
       "11-beta-hsd1_inhibitor                    18\n",
       "acat_inhibitor                            24\n",
       "acetylcholine_receptor_agonist           190\n",
       "acetylcholine_receptor_antagonist        301\n",
       "                                        ... \n",
       "ubiquitin_specific_protease_inhibitor      6\n",
       "vegfr_inhibitor                          170\n",
       "vitamin_b                                 26\n",
       "vitamin_d_receptor_agonist                39\n",
       "wnt_inhibitor                             30\n",
       "Length: 206, dtype: int64"
      ]
     },
     "execution_count": 6,
     "metadata": {},
     "output_type": "execute_result"
    }
   ],
   "source": [
    "'''\n",
    "Two series that capture the different distribution of CP_dose feature -> Data Visualization\n",
    "'''\n",
    "index_for_d1_cp_dose = train_features_df[train_features_df['cp_dose']=='D1'].index\n",
    "d1_dose_label_df = train_labels_df.loc[index_for_trt_cp_type]\n",
    "d1_dose_label_df.sum()\n",
    "\n",
    "index_for_d2_cp_dose = train_features_df[train_features_df['cp_dose']=='D2'].index\n",
    "d2_dose_label_df = train_labels_df.loc[index_for_trt_cp_type]\n",
    "d2_dose_label_df.sum()"
   ]
  },
  {
   "cell_type": "markdown",
   "metadata": {},
   "source": [
    "### Encode categoricals to 1's and 0's"
   ]
  },
  {
   "cell_type": "code",
   "execution_count": 7,
   "metadata": {},
   "outputs": [
    {
     "data": {
      "text/html": [
       "<div>\n",
       "<style scoped>\n",
       "    .dataframe tbody tr th:only-of-type {\n",
       "        vertical-align: middle;\n",
       "    }\n",
       "\n",
       "    .dataframe tbody tr th {\n",
       "        vertical-align: top;\n",
       "    }\n",
       "\n",
       "    .dataframe thead th {\n",
       "        text-align: right;\n",
       "    }\n",
       "</style>\n",
       "<table border=\"1\" class=\"dataframe\">\n",
       "  <thead>\n",
       "    <tr style=\"text-align: right;\">\n",
       "      <th></th>\n",
       "      <th>cp_dose</th>\n",
       "    </tr>\n",
       "    <tr>\n",
       "      <th>sig_id</th>\n",
       "      <th></th>\n",
       "    </tr>\n",
       "  </thead>\n",
       "  <tbody>\n",
       "    <tr>\n",
       "      <th>id_000644bb2</th>\n",
       "      <td>0</td>\n",
       "    </tr>\n",
       "    <tr>\n",
       "      <th>id_000779bfc</th>\n",
       "      <td>0</td>\n",
       "    </tr>\n",
       "    <tr>\n",
       "      <th>id_000a6266a</th>\n",
       "      <td>0</td>\n",
       "    </tr>\n",
       "    <tr>\n",
       "      <th>id_0015fd391</th>\n",
       "      <td>0</td>\n",
       "    </tr>\n",
       "    <tr>\n",
       "      <th>id_001626bd3</th>\n",
       "      <td>1</td>\n",
       "    </tr>\n",
       "    <tr>\n",
       "      <th>id_001762a82</th>\n",
       "      <td>0</td>\n",
       "    </tr>\n",
       "    <tr>\n",
       "      <th>id_001bd861f</th>\n",
       "      <td>1</td>\n",
       "    </tr>\n",
       "    <tr>\n",
       "      <th>id_0020d0484</th>\n",
       "      <td>0</td>\n",
       "    </tr>\n",
       "    <tr>\n",
       "      <th>id_00224bf20</th>\n",
       "      <td>0</td>\n",
       "    </tr>\n",
       "    <tr>\n",
       "      <th>id_0023f063e</th>\n",
       "      <td>1</td>\n",
       "    </tr>\n",
       "  </tbody>\n",
       "</table>\n",
       "</div>"
      ],
      "text/plain": [
       "              cp_dose\n",
       "sig_id               \n",
       "id_000644bb2        0\n",
       "id_000779bfc        0\n",
       "id_000a6266a        0\n",
       "id_0015fd391        0\n",
       "id_001626bd3        1\n",
       "id_001762a82        0\n",
       "id_001bd861f        1\n",
       "id_0020d0484        0\n",
       "id_00224bf20        0\n",
       "id_0023f063e        1"
      ]
     },
     "execution_count": 7,
     "metadata": {},
     "output_type": "execute_result"
    }
   ],
   "source": [
    "le = LabelEncoder()\n",
    "categorical_cols.remove('cp_type')\n",
    "train_features_df[categorical_cols] = train_features_df[categorical_cols].apply(lambda col: le.fit_transform(col))\n",
    "train_features_df[categorical_cols].head(10)"
   ]
  },
  {
   "cell_type": "markdown",
   "metadata": {},
   "source": [
    "### Data-Process: Standardize Feature data"
   ]
  },
  {
   "cell_type": "code",
   "execution_count": 8,
   "metadata": {},
   "outputs": [],
   "source": [
    "scaler = StandardScaler()\n",
    "\n",
    "for num_col in numeric_cols:\n",
    "    train_features_df[num_col] = scaler.fit_transform(np.array(train_features_df[num_col]).reshape(-1,1))"
   ]
  },
  {
   "cell_type": "code",
   "execution_count": 9,
   "metadata": {},
   "outputs": [],
   "source": [
    "# train_features_df\n",
    "# train_labels_df\n",
    "\n",
    "# train_features_df = train_features_df[0:10000]\n",
    "# train_labels_df = train_labels_df[0:10000]"
   ]
  },
  {
   "cell_type": "code",
   "execution_count": 10,
   "metadata": {},
   "outputs": [],
   "source": [
    "# dt = DecisionTreeClassifier(\n",
    "#     criterion='gini',\n",
    "#     splitter='best',\n",
    "#     max_depth=None,\n",
    "#     min_samples_split=2,\n",
    "#     min_samples_leaf=1,\n",
    "#     min_weight_fraction_leaf=0.0,\n",
    "#     max_features=None,\n",
    "#     random_state=None,\n",
    "#     max_leaf_nodes=None,\n",
    "#     min_impurity_decrease=0.0,\n",
    "#     min_impurity_split=None,\n",
    "#     class_weight=None,\n",
    "#     presort='deprecated',\n",
    "#     ccp_alpha=0.0,\n",
    "# )\n",
    "# dt.fit(train_features_df, train_labels_df)\n"
   ]
  },
  {
   "cell_type": "code",
   "execution_count": 11,
   "metadata": {},
   "outputs": [],
   "source": [
    "# feature_importance = dt.feature_importances_\n",
    "\n",
    "# ranked_importance = np.argsort(feature_importance)\n",
    "# ranked_importance_ind = ranked_importance[::-1] # Descending order\n",
    "# ranked_importance_val = feature_importance[ranked_importance_ind]\n",
    "# np.save(file='dt_feature_importance_ranked_value', arr=ranked_importance_val)\n",
    "# np.save(file='dt_feature_importance_ranked_ind', arr=ranked_importance_ind)"
   ]
  },
  {
   "cell_type": "code",
   "execution_count": 12,
   "metadata": {},
   "outputs": [],
   "source": [
    "dt_feature_importance_ind = np.load(file='dt_feature_importance_ranked_ind.npy')\n",
    "dt_feature_importance_val = np.load(file='dt_feature_importance_ranked_value.npy')"
   ]
  },
  {
   "cell_type": "code",
   "execution_count": 13,
   "metadata": {},
   "outputs": [
    {
     "data": {
      "image/png": "[encoded data removed]",
      "text/plain": [
       "<Figure size 1080x864 with 1 Axes>"
      ]
     },
     "metadata": {
      "needs_background": "light"
     },
     "output_type": "display_data"
    }
   ],
   "source": [
    "columns = train_features_df.columns\n",
    "top50_most_important_columns = columns[dt_feature_importance_ind][:50]\n",
    "\n",
    "fig, ax = plt.subplots(figsize=(15,12))\n",
    "ax = sns.barplot(x=top50_most_important_columns, y=dt_feature_importance_val[:50])\n",
    "ax.set_title(label='Top 50 most important features from Decision Tree')\n",
    "ax.set_xlabel(xlabel='Features',)\n",
    "ax.set_ylabel(ylabel='Feature Importance',)\n",
    "plt.xticks(rotation=90)\n",
    "\n",
    "plt.savefig(fname='top_50_importance.png')"
   ]
  },
  {
   "cell_type": "markdown",
   "metadata": {},
   "source": [
    "## Predict"
   ]
  },
  {
   "cell_type": "code",
   "execution_count": 14,
   "metadata": {},
   "outputs": [],
   "source": [
    "# y_train_predict = dt.predict(train_features_df)\n",
    "# train_accuracy = accuracy_score(train_labels_df, y_train_predict)"
   ]
  },
  {
   "cell_type": "markdown",
   "metadata": {},
   "source": [
    "## Random Forest"
   ]
  },
  {
   "cell_type": "code",
   "execution_count": 23,
   "metadata": {},
   "outputs": [
    {
     "name": "stderr",
     "output_type": "stream",
     "text": [
      "[Parallel(n_jobs=-1)]: Using backend ThreadingBackend with 8 concurrent workers.\n",
      "[Parallel(n_jobs=-1)]: Done  34 tasks      | elapsed:  3.3min\n",
      "[Parallel(n_jobs=-1)]: Done 184 tasks      | elapsed: 15.8min\n",
      "[Parallel(n_jobs=-1)]: Done 200 out of 200 | elapsed: 17.0min finished\n"
     ]
    },
    {
     "data": {
      "text/plain": [
       "RandomForestClassifier(bootstrap=True, ccp_alpha=0.0, class_weight=None,\n",
       "                       criterion='entropy', max_depth=6, max_features='sqrt',\n",
       "                       max_leaf_nodes=None, max_samples=None,\n",
       "                       min_impurity_decrease=0.0, min_impurity_split=None,\n",
       "                       min_samples_leaf=30, min_samples_split=100,\n",
       "                       min_weight_fraction_leaf=0.0, n_estimators=200,\n",
       "                       n_jobs=-1, oob_score=True, random_state=42, verbose=1,\n",
       "                       warm_start=False)"
      ]
     },
     "execution_count": 23,
     "metadata": {},
     "output_type": "execute_result"
    }
   ],
   "source": [
    "from sklearn.ensemble import RandomForestClassifier\n",
    "rf = RandomForestClassifier(n_estimators=200,\n",
    "    criterion='entropy',\n",
    "    max_depth=6,\n",
    "    min_samples_split=100,\n",
    "    min_samples_leaf=30,\n",
    "    max_features='sqrt',\n",
    "    min_impurity_decrease=0.0,\n",
    "#     min_impurity_split=0.01,\n",
    "    bootstrap=True,\n",
    "    oob_score=True,\n",
    "    n_jobs=-1,\n",
    "    random_state=42,\n",
    "    verbose=1,\n",
    "    warm_start=False,\n",
    "    class_weight=None,\n",
    "    ccp_alpha=0.0,\n",
    "    max_samples=None,)\n",
    "\n",
    "rf.fit(train_features_df, train_labels_df)"
   ]
  },
  {
   "cell_type": "code",
   "execution_count": 24,
   "metadata": {},
   "outputs": [],
   "source": [
    "# fig, ax = plt.subplots(figsize=(15,12))\n",
    "rf.feature_importances_\n",
    "\n",
    "rf_feature_importance = rf.feature_importances_\n",
    "\n",
    "rf_ranked_importance = np.argsort(rf_feature_importance)\n",
    "rf_ranked_importance_ind = rf_ranked_importance[::-1] # Descending order\n",
    "rf_ranked_importance_val = rf_feature_importance[rf_ranked_importance_ind]\n",
    "np.save(file='rf_feature_importance_ranked_value', arr=rf_ranked_importance_val)\n",
    "np.save(file='rf_feature_importance_ranked_ind', arr=rf_ranked_importance_ind)"
   ]
  },
  {
   "cell_type": "code",
   "execution_count": 25,
   "metadata": {},
   "outputs": [
    {
     "data": {
      "image/png": "[encoded data removed]",
      "text/plain": [
       "<Figure size 1080x864 with 1 Axes>"
      ]
     },
     "metadata": {
      "needs_background": "light"
     },
     "output_type": "display_data"
    }
   ],
   "source": [
    "columns = train_features_df.columns\n",
    "top50_most_important_columns = columns[rf_ranked_importance_ind][:50]\n",
    "\n",
    "fig, ax = plt.subplots(figsize=(15,12))\n",
    "ax = sns.barplot(x=top50_most_important_columns, y=rf_ranked_importance_val[:50])\n",
    "ax.set_title(label='Top 50 most important features from Random Forest (100 Trees)')\n",
    "ax.set_xlabel(xlabel='Features',)\n",
    "ax.set_ylabel(ylabel='Feature Importance',)\n",
    "plt.xticks(rotation=90)\n",
    "\n",
    "plt.savefig(fname='rf_top_50_importance.png')"
   ]
  },
  {
   "cell_type": "code",
   "execution_count": 26,
   "metadata": {},
   "outputs": [
    {
     "name": "stderr",
     "output_type": "stream",
     "text": [
      "[Parallel(n_jobs=8)]: Using backend ThreadingBackend with 8 concurrent workers.\n",
      "[Parallel(n_jobs=8)]: Done  34 tasks      | elapsed:    7.7s\n",
      "[Parallel(n_jobs=8)]: Done 184 tasks      | elapsed:   38.7s\n",
      "[Parallel(n_jobs=8)]: Done 200 out of 200 | elapsed:   41.1s finished\n"
     ]
    }
   ],
   "source": [
    "y_train_rf_predict = rf.predict(train_features_df)\n",
    "train_accuracy = accuracy_score(train_labels_df, y_train_rf_predict)"
   ]
  },
  {
   "cell_type": "code",
   "execution_count": 27,
   "metadata": {},
   "outputs": [
    {
     "data": {
      "text/plain": [
       "0.3892837616183707"
      ]
     },
     "execution_count": 27,
     "metadata": {},
     "output_type": "execute_result"
    }
   ],
   "source": [
    "train_accuracy\n",
    "\n",
    "# First try - 0.3753\n",
    "# Second Try - 0.3816\n",
    "# Third - 0.3877 \n",
    "# Fourth (random forest) - 0.38928 "
   ]
  },
  {
   "cell_type": "code",
   "execution_count": 28,
   "metadata": {},
   "outputs": [
    {
     "data": {
      "text/plain": [
       "0.9966394531823675"
      ]
     },
     "execution_count": 28,
     "metadata": {},
     "output_type": "execute_result"
    }
   ],
   "source": [
    "rf.oob_score_"
   ]
  }
 ],
 "metadata": {
  "kernelspec": {
   "display_name": "Python 3",
   "language": "python",
   "name": "python3"
  },
  "language_info": {
   "codemirror_mode": {
    "name": "ipython",
    "version": 3
   },
   "file_extension": ".py",
   "mimetype": "text/x-python",
   "name": "python",
   "nbconvert_exporter": "python",
   "pygments_lexer": "ipython3",
   "version": "3.7.6"
  }
 },
 "nbformat": 4,
 "nbformat_minor": 4
}
